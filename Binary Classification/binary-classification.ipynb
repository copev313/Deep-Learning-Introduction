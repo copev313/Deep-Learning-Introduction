{
  "nbformat": 4,
  "nbformat_minor": 0,
  "metadata": {
    "jupytext": {
      "cell_metadata_filter": "-all",
      "formats": "ipynb"
    },
    "kernelspec": {
      "display_name": "Python 3",
      "language": "python",
      "name": "python3"
    },
    "language_info": {
      "name": "python",
      "version": "3.7.10",
      "mimetype": "text/x-python",
      "codemirror_mode": {
        "name": "ipython",
        "version": 3
      },
      "pygments_lexer": "ipython3",
      "nbconvert_exporter": "python",
      "file_extension": ".py"
    },
    "colab": {
      "name": "binary-classification.ipynb",
      "provenance": [],
      "collapsed_sections": [],
      "include_colab_link": true
    }
  },
  "cells": [
    {
      "cell_type": "markdown",
      "metadata": {
        "id": "view-in-github",
        "colab_type": "text"
      },
      "source": [
        "<a href=\"https://colab.research.google.com/github/copev313/Deep-Learning-Introduction/blob/main/binary-classification.ipynb\" target=\"_parent\"><img src=\"https://colab.research.google.com/assets/colab-badge.svg\" alt=\"Open In Colab\"/></a>"
      ]
    },
    {
      "cell_type": "markdown",
      "metadata": {
        "id": "6VLZB4G3Dgu2"
      },
      "source": [
        "# Binary Classification\n",
        "\n",
        "---\n"
      ]
    },
    {
      "cell_type": "markdown",
      "metadata": {
        "id": "lX5fuqU4Dgu7"
      },
      "source": [
        "## Introduction #\n",
        "\n",
        "In this exercise, you'll build a model to predict hotel cancellations with a binary classifier."
      ]
    },
    {
      "cell_type": "code",
      "metadata": {
        "lines_to_next_cell": 0,
        "execution": {
          "iopub.status.busy": "2021-08-26T19:03:33.538583Z",
          "iopub.execute_input": "2021-08-26T19:03:33.539055Z",
          "iopub.status.idle": "2021-08-26T19:03:33.547821Z",
          "shell.execute_reply.started": "2021-08-26T19:03:33.539014Z",
          "shell.execute_reply": "2021-08-26T19:03:33.546249Z"
        },
        "trusted": true,
        "id": "naIZD-KPDgu8"
      },
      "source": [
        "# Setup plotting\n",
        "import matplotlib.pyplot as plt\n",
        "\n",
        "plt.style.use('seaborn-whitegrid')\n",
        "\n",
        "# Set Matplotlib defaults\n",
        "plt.rc('figure', autolayout=True)\n",
        "plt.rc('axes', labelweight='bold', labelsize='large',\n",
        "       titleweight='bold', titlesize=18, titlepad=10)\n",
        "plt.rc('animation', html='html5')\n"
      ],
      "execution_count": 1,
      "outputs": []
    },
    {
      "cell_type": "markdown",
      "metadata": {
        "id": "INQApWJqDgu-"
      },
      "source": [
        "First, load the *Hotel Cancellations* dataset."
      ]
    },
    {
      "cell_type": "code",
      "metadata": {
        "lines_to_next_cell": 2,
        "execution": {
          "iopub.status.busy": "2021-08-26T19:04:04.201093Z",
          "iopub.execute_input": "2021-08-26T19:04:04.201544Z",
          "iopub.status.idle": "2021-08-26T19:04:07.020617Z",
          "shell.execute_reply.started": "2021-08-26T19:04:04.201501Z",
          "shell.execute_reply": "2021-08-26T19:04:07.019452Z"
        },
        "trusted": true,
        "id": "mLzXsjuuDgu_",
        "colab": {
          "base_uri": "https://localhost:8080/"
        },
        "outputId": "ebd8315e-bf0e-46b1-c8d6-8cae0f804de3"
      },
      "source": [
        "import pandas as pd\n",
        "\n",
        "from sklearn.model_selection import train_test_split\n",
        "from sklearn.preprocessing import StandardScaler, OneHotEncoder\n",
        "from sklearn.impute import SimpleImputer\n",
        "from sklearn.pipeline import make_pipeline\n",
        "from sklearn.compose import make_column_transformer\n",
        "\n",
        "hotel = pd.read_csv('hotel.csv')\n",
        "\n",
        "X = hotel.copy()\n",
        "y = X.pop('is_canceled')\n",
        "\n",
        "X['arrival_date_month'] = \\\n",
        "    X['arrival_date_month'].map(\n",
        "        {'January': 1, 'February': 2, 'March': 3,\n",
        "         'April': 4, 'May': 5, 'June': 6, 'July': 7,\n",
        "         'August': 8, 'September': 9, 'October': 10,\n",
        "         'November': 11, 'December': 12}\n",
        "    )\n",
        "\n",
        "features_num = [\n",
        "    \"lead_time\", \"arrival_date_week_number\",\n",
        "    \"arrival_date_day_of_month\", \"stays_in_weekend_nights\",\n",
        "    \"stays_in_week_nights\", \"adults\", \"children\", \"babies\",\n",
        "    \"is_repeated_guest\", \"previous_cancellations\",\n",
        "    \"previous_bookings_not_canceled\", \"required_car_parking_spaces\",\n",
        "    \"total_of_special_requests\", \"adr\",\n",
        "]\n",
        "features_cat = [\n",
        "    \"hotel\", \"arrival_date_month\", \"meal\",\n",
        "    \"market_segment\", \"distribution_channel\",\n",
        "    \"reserved_room_type\", \"deposit_type\", \"customer_type\",\n",
        "]\n",
        "\n",
        "# Handle a few missing values:\n",
        "transformer_num = make_pipeline(\n",
        "    SimpleImputer(strategy=\"constant\"),\n",
        "    StandardScaler(),\n",
        ")\n",
        "\n",
        "transformer_cat = make_pipeline(\n",
        "    SimpleImputer(strategy=\"constant\", fill_value=\"NA\"),\n",
        "    OneHotEncoder(handle_unknown='ignore'),\n",
        ")\n",
        "\n",
        "preprocessor = make_column_transformer(\n",
        "    (transformer_num, features_num),\n",
        "    (transformer_cat, features_cat),\n",
        ")\n",
        "\n",
        "# Stratify - make sure classes are evenlly represented across splits.\n",
        "X_train, X_valid, y_train, y_valid = \\\n",
        "    train_test_split(X, y, stratify=y, train_size=0.75)\n",
        "\n",
        "X_train = preprocessor.fit_transform(X_train)\n",
        "X_valid = preprocessor.transform(X_valid)\n",
        "\n",
        "input_shape = [X_train.shape[1]]\n",
        "print(input_shape)"
      ],
      "execution_count": 4,
      "outputs": [
        {
          "output_type": "stream",
          "text": [
            "[63]\n"
          ],
          "name": "stdout"
        }
      ]
    },
    {
      "cell_type": "markdown",
      "metadata": {
        "id": "17ppIhLdDgvB"
      },
      "source": [
        "---\n",
        "\n",
        "## 1) Define Model #\n",
        "\n",
        "The model we'll use this time will have both batch normalization and dropout layers. To ease reading we've broken the diagram into blocks, but you can define it layer by layer as usual.\n",
        "\n",
        "Define a model with an architecture given by this diagram:\n",
        "\n",
        "<figure style=\"padding: 1em;\">\n",
        "<img src=\"https://i.imgur.com/V04o59Z.png\" width=\"400\" alt=\"Diagram of network architecture: BatchNorm, Dense, BatchNorm, Dropout, Dense, BatchNorm, Dropout, Dense.\">\n",
        "\n",
        "<figcaption style=\"textalign: center; font-style: italic\"><center>Diagram of a binary classifier.</center></figcaption>\n",
        "</figure>\n"
      ]
    },
    {
      "cell_type": "code",
      "metadata": {
        "lines_to_next_cell": 2,
        "execution": {
          "iopub.status.busy": "2021-08-26T19:06:57.980624Z",
          "iopub.execute_input": "2021-08-26T19:06:57.980992Z",
          "iopub.status.idle": "2021-08-26T19:07:04.534841Z",
          "shell.execute_reply.started": "2021-08-26T19:06:57.980962Z",
          "shell.execute_reply": "2021-08-26T19:07:04.533886Z"
        },
        "trusted": true,
        "id": "2kMf-51jDgvC"
      },
      "source": [
        "from tensorflow import keras\n",
        "from tensorflow.keras import layers\n",
        "\n",
        "# Define the model given in the diagram\n",
        "model = keras.Sequential([\n",
        "    layers.BatchNormalization(input_shape=input_shape),\n",
        "    layers.Dense(256, activation='relu'),\n",
        "    layers.BatchNormalization(),\n",
        "    layers.Dropout(0.3),\n",
        "    layers.Dense(256, activation='relu'),\n",
        "    layers.BatchNormalization(),\n",
        "    layers.Dropout(0.3),\n",
        "    layers.Dense(1, activation='sigmoid'),\n",
        "])\n",
        "\n"
      ],
      "execution_count": 5,
      "outputs": []
    },
    {
      "cell_type": "markdown",
      "metadata": {
        "id": "USxRouQjDgvF"
      },
      "source": [
        "---\n",
        "\n",
        "## 2) Add Optimizer, Loss, and Metric #\n",
        "\n",
        "Now compile the model with the Adam optimizer and binary versions of the cross-entropy loss and accuracy metric."
      ]
    },
    {
      "cell_type": "code",
      "metadata": {
        "lines_to_next_cell": 0,
        "execution": {
          "iopub.status.busy": "2021-08-26T19:28:34.325395Z",
          "iopub.execute_input": "2021-08-26T19:28:34.326580Z",
          "iopub.status.idle": "2021-08-26T19:28:34.360334Z",
          "shell.execute_reply.started": "2021-08-26T19:28:34.326514Z",
          "shell.execute_reply": "2021-08-26T19:28:34.358992Z"
        },
        "trusted": true,
        "id": "pdcLvesoDgvG"
      },
      "source": [
        "# YOUR CODE HERE\n",
        "model.compile(\n",
        "    optimizer='adam',\n",
        "    loss='binary_crossentropy',\n",
        "    metrics=['binary_accuracy']\n",
        ")\n"
      ],
      "execution_count": 6,
      "outputs": []
    },
    {
      "cell_type": "markdown",
      "metadata": {
        "id": "1Sp3slojDgvJ"
      },
      "source": [
        "Finally, run this cell to train the model and view the learning curves. It may run for around 60 to 70 epochs, which could take a minute or two."
      ]
    },
    {
      "cell_type": "code",
      "metadata": {
        "execution": {
          "iopub.status.busy": "2021-08-26T19:28:42.115637Z",
          "iopub.execute_input": "2021-08-26T19:28:42.116105Z",
          "iopub.status.idle": "2021-08-26T19:30:39.483500Z",
          "shell.execute_reply.started": "2021-08-26T19:28:42.116063Z",
          "shell.execute_reply": "2021-08-26T19:30:39.482387Z"
        },
        "trusted": true,
        "id": "rG9Hhfl5DgvJ",
        "colab": {
          "base_uri": "https://localhost:8080/",
          "height": 1000
        },
        "outputId": "d30f0765-8295-4352-e8ce-67a5e1cac8fa"
      },
      "source": [
        "early_stopping = keras.callbacks.EarlyStopping(\n",
        "    patience=5,\n",
        "    min_delta=0.001,\n",
        "    restore_best_weights=True,\n",
        ")\n",
        "\n",
        "history = model.fit(\n",
        "    X_train, y_train,\n",
        "    validation_data=(X_valid, y_valid),\n",
        "    batch_size=512,\n",
        "    epochs=200,\n",
        "    callbacks=[early_stopping],\n",
        ")\n",
        "\n",
        "history_df = pd.DataFrame(history.history)\n",
        "history_df.loc[:, ['loss', 'val_loss']]\\\n",
        "          .plot(title=\"Cross-entropy\")\n",
        "history_df.loc[:, ['binary_accuracy', 'val_binary_accuracy']]\\\n",
        "          .plot(title=\"Accuracy\")"
      ],
      "execution_count": 7,
      "outputs": [
        {
          "output_type": "stream",
          "text": [
            "Epoch 1/200\n",
            "175/175 [==============================] - 6s 23ms/step - loss: 0.4861 - binary_accuracy: 0.7701 - val_loss: 0.4347 - val_binary_accuracy: 0.8053\n",
            "Epoch 2/200\n",
            "175/175 [==============================] - 3s 20ms/step - loss: 0.4246 - binary_accuracy: 0.7999 - val_loss: 0.4049 - val_binary_accuracy: 0.8138\n",
            "Epoch 3/200\n",
            "175/175 [==============================] - 4s 23ms/step - loss: 0.4085 - binary_accuracy: 0.8092 - val_loss: 0.3943 - val_binary_accuracy: 0.8188\n",
            "Epoch 4/200\n",
            "175/175 [==============================] - 4s 23ms/step - loss: 0.4024 - binary_accuracy: 0.8125 - val_loss: 0.3885 - val_binary_accuracy: 0.8194\n",
            "Epoch 5/200\n",
            "175/175 [==============================] - 4s 23ms/step - loss: 0.3974 - binary_accuracy: 0.8148 - val_loss: 0.3874 - val_binary_accuracy: 0.8218\n",
            "Epoch 6/200\n",
            "175/175 [==============================] - 4s 23ms/step - loss: 0.3935 - binary_accuracy: 0.8153 - val_loss: 0.3834 - val_binary_accuracy: 0.8258\n",
            "Epoch 7/200\n",
            "175/175 [==============================] - 4s 22ms/step - loss: 0.3890 - binary_accuracy: 0.8192 - val_loss: 0.3805 - val_binary_accuracy: 0.8271\n",
            "Epoch 8/200\n",
            "175/175 [==============================] - 3s 20ms/step - loss: 0.3862 - binary_accuracy: 0.8206 - val_loss: 0.3793 - val_binary_accuracy: 0.8279\n",
            "Epoch 9/200\n",
            "175/175 [==============================] - 4s 20ms/step - loss: 0.3834 - binary_accuracy: 0.8226 - val_loss: 0.3765 - val_binary_accuracy: 0.8302\n",
            "Epoch 10/200\n",
            "175/175 [==============================] - 4s 22ms/step - loss: 0.3793 - binary_accuracy: 0.8239 - val_loss: 0.3756 - val_binary_accuracy: 0.8285\n",
            "Epoch 11/200\n",
            "175/175 [==============================] - 4s 21ms/step - loss: 0.3770 - binary_accuracy: 0.8257 - val_loss: 0.3723 - val_binary_accuracy: 0.8304\n",
            "Epoch 12/200\n",
            "175/175 [==============================] - 4s 21ms/step - loss: 0.3749 - binary_accuracy: 0.8258 - val_loss: 0.3694 - val_binary_accuracy: 0.8332\n",
            "Epoch 13/200\n",
            "175/175 [==============================] - 4s 23ms/step - loss: 0.3720 - binary_accuracy: 0.8263 - val_loss: 0.3672 - val_binary_accuracy: 0.8330\n",
            "Epoch 14/200\n",
            "175/175 [==============================] - 4s 21ms/step - loss: 0.3691 - binary_accuracy: 0.8297 - val_loss: 0.3660 - val_binary_accuracy: 0.8324\n",
            "Epoch 15/200\n",
            "175/175 [==============================] - 4s 21ms/step - loss: 0.3685 - binary_accuracy: 0.8295 - val_loss: 0.3639 - val_binary_accuracy: 0.8346\n",
            "Epoch 16/200\n",
            "175/175 [==============================] - 4s 21ms/step - loss: 0.3659 - binary_accuracy: 0.8302 - val_loss: 0.3647 - val_binary_accuracy: 0.8339\n",
            "Epoch 17/200\n",
            "175/175 [==============================] - 4s 23ms/step - loss: 0.3661 - binary_accuracy: 0.8300 - val_loss: 0.3590 - val_binary_accuracy: 0.8355\n",
            "Epoch 18/200\n",
            "175/175 [==============================] - 4s 22ms/step - loss: 0.3622 - binary_accuracy: 0.8309 - val_loss: 0.3643 - val_binary_accuracy: 0.8344\n",
            "Epoch 19/200\n",
            "175/175 [==============================] - 4s 22ms/step - loss: 0.3608 - binary_accuracy: 0.8326 - val_loss: 0.3595 - val_binary_accuracy: 0.8353\n",
            "Epoch 20/200\n",
            "175/175 [==============================] - 4s 22ms/step - loss: 0.3604 - binary_accuracy: 0.8327 - val_loss: 0.3585 - val_binary_accuracy: 0.8356\n",
            "Epoch 21/200\n",
            "175/175 [==============================] - 4s 21ms/step - loss: 0.3587 - binary_accuracy: 0.8341 - val_loss: 0.3569 - val_binary_accuracy: 0.8383\n",
            "Epoch 22/200\n",
            "175/175 [==============================] - 4s 22ms/step - loss: 0.3579 - binary_accuracy: 0.8341 - val_loss: 0.3570 - val_binary_accuracy: 0.8374\n",
            "Epoch 23/200\n",
            "175/175 [==============================] - 4s 22ms/step - loss: 0.3562 - binary_accuracy: 0.8346 - val_loss: 0.3539 - val_binary_accuracy: 0.8383\n",
            "Epoch 24/200\n",
            "175/175 [==============================] - 4s 24ms/step - loss: 0.3533 - binary_accuracy: 0.8370 - val_loss: 0.3556 - val_binary_accuracy: 0.8381\n",
            "Epoch 25/200\n",
            "175/175 [==============================] - 4s 22ms/step - loss: 0.3536 - binary_accuracy: 0.8357 - val_loss: 0.3546 - val_binary_accuracy: 0.8376\n",
            "Epoch 26/200\n",
            "175/175 [==============================] - 4s 23ms/step - loss: 0.3524 - binary_accuracy: 0.8369 - val_loss: 0.3515 - val_binary_accuracy: 0.8390\n",
            "Epoch 27/200\n",
            "175/175 [==============================] - 4s 22ms/step - loss: 0.3516 - binary_accuracy: 0.8380 - val_loss: 0.3542 - val_binary_accuracy: 0.8376\n",
            "Epoch 28/200\n",
            "175/175 [==============================] - 4s 22ms/step - loss: 0.3510 - binary_accuracy: 0.8364 - val_loss: 0.3550 - val_binary_accuracy: 0.8381\n",
            "Epoch 29/200\n",
            "175/175 [==============================] - 4s 21ms/step - loss: 0.3479 - binary_accuracy: 0.8399 - val_loss: 0.3528 - val_binary_accuracy: 0.8387\n",
            "Epoch 30/200\n",
            "175/175 [==============================] - 4s 22ms/step - loss: 0.3485 - binary_accuracy: 0.8383 - val_loss: 0.3509 - val_binary_accuracy: 0.8403\n",
            "Epoch 31/200\n",
            "175/175 [==============================] - 4s 21ms/step - loss: 0.3479 - binary_accuracy: 0.8393 - val_loss: 0.3527 - val_binary_accuracy: 0.8386\n"
          ],
          "name": "stdout"
        },
        {
          "output_type": "execute_result",
          "data": {
            "text/plain": [
              "<matplotlib.axes._subplots.AxesSubplot at 0x7f6c0cd43c50>"
            ]
          },
          "metadata": {},
          "execution_count": 7
        },
        {
          "output_type": "display_data",
          "data": {
            "image/png": "[encoded data removed]",
            "text/plain": [
              "<Figure size 432x288 with 1 Axes>"
            ]
          },
          "metadata": {
            "needs_background": "light"
          }
        },
        {
          "output_type": "display_data",
          "data": {
            "image/png": "[encoded data removed]",
            "text/plain": [
              "<Figure size 432x288 with 1 Axes>"
            ]
          },
          "metadata": {
            "needs_background": "light"
          }
        }
      ]
    },
    {
      "cell_type": "markdown",
      "metadata": {
        "id": "7lI76ccxDgvK"
      },
      "source": [
        "---\n",
        "\n",
        "## 3) Train and Evaluate #\n",
        "\n",
        "\n",
        "What do you think about the learning curves? Does it look like the model underfit or overfit? Was the cross-entropy loss a good stand-in for accuracy?"
      ]
    }
  ]
}