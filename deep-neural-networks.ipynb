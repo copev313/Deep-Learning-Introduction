{
  "nbformat": 4,
  "nbformat_minor": 0,
  "metadata": {
    "jupytext": {
      "cell_metadata_filter": "-all",
      "formats": "ipynb"
    },
    "kernelspec": {
      "display_name": "Python 3",
      "language": "python",
      "name": "python3"
    },
    "language_info": {
      "name": "python",
      "version": "3.7.10",
      "mimetype": "text/x-python",
      "codemirror_mode": {
        "name": "ipython",
        "version": 3
      },
      "pygments_lexer": "ipython3",
      "nbconvert_exporter": "python",
      "file_extension": ".py"
    },
    "colab": {
      "name": "deep-neural-networks.ipynb",
      "provenance": [],
      "toc_visible": true,
      "include_colab_link": true
    }
  },
  "cells": [
    {
      "cell_type": "markdown",
      "metadata": {
        "id": "view-in-github",
        "colab_type": "text"
      },
      "source": [
        "<a href=\"https://colab.research.google.com/github/copev313/Deep-Learning-Introduction/blob/main/deep-neural-networks.ipynb\" target=\"_parent\"><img src=\"https://colab.research.google.com/assets/colab-badge.svg\" alt=\"Open In Colab\"/></a>"
      ]
    },
    {
      "cell_type": "markdown",
      "metadata": {
        "id": "Wc4Qx_FzugIk"
      },
      "source": [
        "# **Deep Neural Networks**\n",
        "\n",
        "---\n"
      ]
    },
    {
      "cell_type": "markdown",
      "metadata": {
        "id": "4ArxoC-7ugIo"
      },
      "source": [
        "## Introduction #\n",
        "\n",
        "In the tutorial, we saw how to build deep neural networks by stacking layers inside a `Sequential` model. By adding an *activation function* after the hidden layers, we gave the network the ability to learn more complex (non-linear) relationships in the data.\n",
        "\n",
        "In these exercises, you'll build a neural network with several hidden layers and then explore some activation functions beyond ReLU. Run this next cell to set everything up!"
      ]
    },
    {
      "cell_type": "code",
      "metadata": {
        "execution": {
          "iopub.status.busy": "2021-08-18T18:54:55.536255Z",
          "iopub.execute_input": "2021-08-18T18:54:55.536789Z",
          "iopub.status.idle": "2021-08-18T18:55:00.614143Z",
          "shell.execute_reply.started": "2021-08-18T18:54:55.536708Z",
          "shell.execute_reply": "2021-08-18T18:55:00.613195Z"
        },
        "trusted": true,
        "id": "eOCVdKS7ugIp"
      },
      "source": [
        "import tensorflow as tf\n",
        "\n",
        "# Setup plotting\n",
        "import matplotlib.pyplot as plt\n",
        "\n",
        "plt.style.use('seaborn-whitegrid')\n",
        "# Set Matplotlib defaults\n",
        "plt.rc('figure', autolayout=True)\n",
        "plt.rc('axes', labelweight='bold', labelsize='large',\n",
        "       titleweight='bold', titlesize=18, titlepad=10)\n"
      ],
      "execution_count": 1,
      "outputs": []
    },
    {
      "cell_type": "markdown",
      "metadata": {
        "id": "jnGlon1ZugIq"
      },
      "source": [
        "In the *Concrete* dataset, your task is to predict the compressive strength of concrete manufactured according to various recipes.\n",
        "\n",
        "Run the next code cell without changes to load the dataset."
      ]
    },
    {
      "cell_type": "code",
      "metadata": {
        "execution": {
          "iopub.status.busy": "2021-08-18T18:55:12.135252Z",
          "iopub.execute_input": "2021-08-18T18:55:12.135577Z",
          "iopub.status.idle": "2021-08-18T18:55:12.182811Z",
          "shell.execute_reply.started": "2021-08-18T18:55:12.135543Z",
          "shell.execute_reply": "2021-08-18T18:55:12.181897Z"
        },
        "trusted": true,
        "id": "5bC7g__qugIr",
        "colab": {
          "base_uri": "https://localhost:8080/",
          "height": 204
        },
        "outputId": "5d47675a-5d24-459b-a2ad-84ee11fcbd9a"
      },
      "source": [
        "import pandas as pd\n",
        "\n",
        "concrete = pd.read_csv('data/concrete.csv')\n",
        "concrete.head()"
      ],
      "execution_count": 3,
      "outputs": [
        {
          "output_type": "execute_result",
          "data": {
            "text/html": [
              "<div>\n",
              "<style scoped>\n",
              "    .dataframe tbody tr th:only-of-type {\n",
              "        vertical-align: middle;\n",
              "    }\n",
              "\n",
              "    .dataframe tbody tr th {\n",
              "        vertical-align: top;\n",
              "    }\n",
              "\n",
              "    .dataframe thead th {\n",
              "        text-align: right;\n",
              "    }\n",
              "</style>\n",
              "<table border=\"1\" class=\"dataframe\">\n",
              "  <thead>\n",
              "    <tr style=\"text-align: right;\">\n",
              "      <th></th>\n",
              "      <th>Cement</th>\n",
              "      <th>BlastFurnaceSlag</th>\n",
              "      <th>FlyAsh</th>\n",
              "      <th>Water</th>\n",
              "      <th>Superplasticizer</th>\n",
              "      <th>CoarseAggregate</th>\n",
              "      <th>FineAggregate</th>\n",
              "      <th>Age</th>\n",
              "      <th>CompressiveStrength</th>\n",
              "    </tr>\n",
              "  </thead>\n",
              "  <tbody>\n",
              "    <tr>\n",
              "      <th>0</th>\n",
              "      <td>540.0</td>\n",
              "      <td>0.0</td>\n",
              "      <td>0.0</td>\n",
              "      <td>162.0</td>\n",
              "      <td>2.5</td>\n",
              "      <td>1040.0</td>\n",
              "      <td>676.0</td>\n",
              "      <td>28</td>\n",
              "      <td>79.99</td>\n",
              "    </tr>\n",
              "    <tr>\n",
              "      <th>1</th>\n",
              "      <td>540.0</td>\n",
              "      <td>0.0</td>\n",
              "      <td>0.0</td>\n",
              "      <td>162.0</td>\n",
              "      <td>2.5</td>\n",
              "      <td>1055.0</td>\n",
              "      <td>676.0</td>\n",
              "      <td>28</td>\n",
              "      <td>61.89</td>\n",
              "    </tr>\n",
              "    <tr>\n",
              "      <th>2</th>\n",
              "      <td>332.5</td>\n",
              "      <td>142.5</td>\n",
              "      <td>0.0</td>\n",
              "      <td>228.0</td>\n",
              "      <td>0.0</td>\n",
              "      <td>932.0</td>\n",
              "      <td>594.0</td>\n",
              "      <td>270</td>\n",
              "      <td>40.27</td>\n",
              "    </tr>\n",
              "    <tr>\n",
              "      <th>3</th>\n",
              "      <td>332.5</td>\n",
              "      <td>142.5</td>\n",
              "      <td>0.0</td>\n",
              "      <td>228.0</td>\n",
              "      <td>0.0</td>\n",
              "      <td>932.0</td>\n",
              "      <td>594.0</td>\n",
              "      <td>365</td>\n",
              "      <td>41.05</td>\n",
              "    </tr>\n",
              "    <tr>\n",
              "      <th>4</th>\n",
              "      <td>198.6</td>\n",
              "      <td>132.4</td>\n",
              "      <td>0.0</td>\n",
              "      <td>192.0</td>\n",
              "      <td>0.0</td>\n",
              "      <td>978.4</td>\n",
              "      <td>825.5</td>\n",
              "      <td>360</td>\n",
              "      <td>44.30</td>\n",
              "    </tr>\n",
              "  </tbody>\n",
              "</table>\n",
              "</div>"
            ],
            "text/plain": [
              "   Cement  BlastFurnaceSlag  FlyAsh  ...  FineAggregate  Age  CompressiveStrength\n",
              "0   540.0               0.0     0.0  ...          676.0   28                79.99\n",
              "1   540.0               0.0     0.0  ...          676.0   28                61.89\n",
              "2   332.5             142.5     0.0  ...          594.0  270                40.27\n",
              "3   332.5             142.5     0.0  ...          594.0  365                41.05\n",
              "4   198.6             132.4     0.0  ...          825.5  360                44.30\n",
              "\n",
              "[5 rows x 9 columns]"
            ]
          },
          "metadata": {},
          "execution_count": 3
        }
      ]
    },
    {
      "cell_type": "markdown",
      "metadata": {
        "id": "FwOaO7VwugIt"
      },
      "source": [
        "---\n",
        "\n",
        "## 1) Input Shape #\n",
        "\n",
        "The target for this task is the column `'CompressiveStrength'`. The remaining columns are the features we'll use as inputs.\n",
        "\n",
        "What would be the input shape for this dataset?"
      ]
    },
    {
      "cell_type": "code",
      "metadata": {
        "lines_to_next_cell": 2,
        "execution": {
          "iopub.status.busy": "2021-08-18T19:00:13.756446Z",
          "iopub.execute_input": "2021-08-18T19:00:13.756845Z",
          "iopub.status.idle": "2021-08-18T19:00:13.765931Z",
          "shell.execute_reply.started": "2021-08-18T19:00:13.756814Z",
          "shell.execute_reply": "2021-08-18T19:00:13.765055Z"
        },
        "trusted": true,
        "id": "FHMUFEGVugIt",
        "colab": {
          "base_uri": "https://localhost:8080/"
        },
        "outputId": "a1bbf1cd-b222-44f6-8094-6ca2ef5a6c74"
      },
      "source": [
        "input_shape = [concrete.shape[1] - 1]\n",
        "print(concrete.shape)\n"
      ],
      "execution_count": 6,
      "outputs": [
        {
          "output_type": "stream",
          "text": [
            "(1030, 9)\n"
          ],
          "name": "stdout"
        }
      ]
    },
    {
      "cell_type": "markdown",
      "metadata": {
        "id": "LEoHypMCugIw"
      },
      "source": [
        "---\n",
        "\n",
        "## 2) Define a Model with Hidden Layers #\n",
        "\n",
        "Now create a model with three hidden layers, each having 512 units and the ReLU activation.  Be sure to include an output layer of one unit and no activation, and also `input_shape` as an argument to the first layer."
      ]
    },
    {
      "cell_type": "code",
      "metadata": {
        "lines_to_next_cell": 0,
        "execution": {
          "iopub.status.busy": "2021-08-18T18:59:30.437132Z",
          "iopub.execute_input": "2021-08-18T18:59:30.437672Z",
          "iopub.status.idle": "2021-08-18T18:59:30.537303Z",
          "shell.execute_reply.started": "2021-08-18T18:59:30.437611Z",
          "shell.execute_reply": "2021-08-18T18:59:30.536452Z"
        },
        "trusted": true,
        "id": "3pTW-U-hugIy"
      },
      "source": [
        "from tensorflow import keras\n",
        "from tensorflow.keras import layers\n",
        "\n",
        "model = keras.Sequential([\n",
        "    layers.Dense(units=512,\n",
        "                 activation='relu',\n",
        "                 input_shape=[concrete.shape[1] - 1]),\n",
        "    \n",
        "    layers.Dense(units=512,\n",
        "                 activation='relu'),\n",
        "\n",
        "    layers.Dense(units=512,\n",
        "                 activation='relu'),\n",
        "    \n",
        "    layers.Dense(units=1)\n",
        "])\n"
      ],
      "execution_count": 5,
      "outputs": []
    },
    {
      "cell_type": "markdown",
      "metadata": {
        "id": "dwC_f9y6ugIz"
      },
      "source": [
        "---\n",
        "\n",
        "## 3) Activation Layers #\n",
        "\n",
        "Let's explore activations functions some.\n",
        "\n",
        "The usual way of attaching an activation function to a `Dense` layer is to include it as part of the definition with the `activation` argument. Sometimes though you'll want to put some other layer between the `Dense` layer and its activation function. (We'll see an example of this in Lesson 5 with *batch normalization*.) In this case, we can define the activation in its own `Activation` layer, like so:\n",
        "\n",
        "```\n",
        "layers.Dense(units=8),\n",
        "layers.Activation('relu')\n",
        "```\n",
        "\n",
        "This is completely equivalent to the ordinary way: `layers.Dense(units=8, activation='relu')`.\n",
        "\n",
        "Rewrite the following model so that each activation is in its own `Activation` layer."
      ]
    },
    {
      "cell_type": "code",
      "metadata": {
        "lines_to_next_cell": 0,
        "execution": {
          "iopub.status.busy": "2021-08-18T19:21:51.393442Z",
          "iopub.execute_input": "2021-08-18T19:21:51.394078Z",
          "iopub.status.idle": "2021-08-18T19:21:51.434402Z",
          "shell.execute_reply.started": "2021-08-18T19:21:51.394043Z",
          "shell.execute_reply": "2021-08-18T19:21:51.433731Z"
        },
        "trusted": true,
        "id": "F7JoHixpugI0"
      },
      "source": [
        "model = keras.Sequential([\n",
        "    layers.Dense(32, input_shape=[8]),\n",
        "    layers.Activation('relu'),\n",
        "    layers.Dense(32),\n",
        "    layers.Activation('relu'),\n",
        "    layers.Dense(1)\n",
        "])\n"
      ],
      "execution_count": 8,
      "outputs": []
    },
    {
      "cell_type": "markdown",
      "metadata": {
        "id": "dES2F_5gugI1"
      },
      "source": [
        "---\n",
        "\n",
        "## Optional: Alternatives to ReLU #\n",
        "\n",
        "There is a whole family of variants of the `'relu'` activation -- `'elu'`, `'selu'`, and `'swish'`, among others -- all of which you can use in Keras. Sometimes one activation will perform better than another on a given task, so you could consider experimenting with activations as you develop a model. The ReLU activation tends to do well on most problems, so it's a good one to start with.\n",
        "\n",
        "Let's look at the graphs of some of these. Change the activation from `'relu'` to one of the others named above. Then run the cell to see the graph. (Check out the [documentation](https://www.tensorflow.org/api_docs/python/tf/keras/activations) for more ideas.)"
      ]
    },
    {
      "cell_type": "code",
      "metadata": {
        "lines_to_next_cell": 0,
        "execution": {
          "iopub.status.busy": "2021-08-18T19:22:06.009197Z",
          "iopub.execute_input": "2021-08-18T19:22:06.009566Z",
          "iopub.status.idle": "2021-08-18T19:22:06.291801Z",
          "shell.execute_reply.started": "2021-08-18T19:22:06.009532Z",
          "shell.execute_reply": "2021-08-18T19:22:06.290661Z"
        },
        "trusted": true,
        "id": "TpMCZ5HHugI1",
        "colab": {
          "base_uri": "https://localhost:8080/",
          "height": 407
        },
        "outputId": "b2f6f982-5965-43cf-889c-05c16c0bffed"
      },
      "source": [
        "# Change 'relu' to 'elu', 'selu', 'swish'... or something else\n",
        "activation_layer = layers.Activation('elu')\n",
        "\n",
        "x = tf.linspace(-3.0, 3.0, 100)\n",
        "# Once created, a layer is callable just like a function:\n",
        "y = activation_layer(x) \n",
        "\n",
        "plt.figure(dpi=100)\n",
        "plt.plot(x, y)\n",
        "plt.xlim(-3, 3)\n",
        "plt.xlabel(\"Input\")\n",
        "plt.ylabel(\"Output\")\n",
        "plt.show()"
      ],
      "execution_count": 14,
      "outputs": [
        {
          "output_type": "display_data",
          "data": {
            "image/png": "[encoded data removed]",
            "text/plain": [
              "<Figure size 600x400 with 1 Axes>"
            ]
          },
          "metadata": {
            "needs_background": "light"
          }
        }
      ]
    }
  ]
}