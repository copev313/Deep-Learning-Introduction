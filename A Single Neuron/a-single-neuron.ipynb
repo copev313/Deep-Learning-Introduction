{
  "nbformat": 4,
  "nbformat_minor": 0,
  "metadata": {
    "jupytext": {
      "cell_metadata_filter": "-all",
      "formats": "ipynb"
    },
    "kernelspec": {
      "display_name": "Python 3",
      "language": "python",
      "name": "python3"
    },
    "language_info": {
      "name": "python",
      "version": "3.7.10",
      "mimetype": "text/x-python",
      "codemirror_mode": {
        "name": "ipython",
        "version": 3
      },
      "pygments_lexer": "ipython3",
      "nbconvert_exporter": "python",
      "file_extension": ".py"
    },
    "colab": {
      "name": "a-single-neuron.ipynb",
      "provenance": [],
      "include_colab_link": true
    }
  },
  "cells": [
    {
      "cell_type": "markdown",
      "metadata": {
        "id": "view-in-github",
        "colab_type": "text"
      },
      "source": [
        "<a href=\"https://colab.research.google.com/github/copev313/Deep-Learning-Introduction/blob/main/a-single-neuron.ipynb\" target=\"_parent\"><img src=\"https://colab.research.google.com/assets/colab-badge.svg\" alt=\"Open In Colab\"/></a>"
      ]
    },
    {
      "cell_type": "markdown",
      "metadata": {
        "id": "rAWuVsgTnmMA"
      },
      "source": [
        "# A Single Neuron & The Linear Unit\n",
        "\n",
        "---\n"
      ]
    },
    {
      "cell_type": "markdown",
      "metadata": {
        "id": "YHjZt7msnmMB"
      },
      "source": [
        "# Introduction #\n",
        "\n",
        "In the tutorial we learned about the building blocks of neural networks: *linear units*. We saw that a model of just one linear unit will fit a linear function to a dataset (equivalent to linear regression). In this exercise, you'll build a linear model and get some practice working with models in Keras."
      ]
    },
    {
      "cell_type": "code",
      "metadata": {
        "execution": {
          "iopub.status.busy": "2021-08-17T19:03:10.357511Z",
          "iopub.execute_input": "2021-08-17T19:03:10.357911Z",
          "iopub.status.idle": "2021-08-17T19:03:16.700139Z",
          "shell.execute_reply.started": "2021-08-17T19:03:10.357828Z",
          "shell.execute_reply": "2021-08-17T19:03:16.699145Z"
        },
        "trusted": true,
        "id": "kBjx2AVDnmMC"
      },
      "source": [
        "# Setup plotting\n",
        "import matplotlib.pyplot as plt\n",
        "\n",
        "plt.style.use('seaborn-whitegrid')\n",
        "# Set Matplotlib defaults\n",
        "plt.rc('figure', autolayout=True)\n",
        "plt.rc('axes', labelweight='bold', labelsize='large',\n",
        "       titleweight='bold', titlesize=18, titlepad=10)\n"
      ],
      "execution_count": 15,
      "outputs": []
    },
    {
      "cell_type": "markdown",
      "metadata": {
        "id": "vNmuSps-nmMC"
      },
      "source": [
        "The *Red Wine Quality* dataset consists of physiochemical measurements from about 1600 Portuguese red wines.  Also included is a quality rating for each wine from blind taste-tests. \n",
        "\n",
        "First, run the next cell to display the first few rows of this dataset."
      ]
    },
    {
      "cell_type": "code",
      "metadata": {
        "execution": {
          "iopub.status.busy": "2021-08-17T19:08:22.053394Z",
          "iopub.execute_input": "2021-08-17T19:08:22.053769Z",
          "iopub.status.idle": "2021-08-17T19:08:22.113886Z",
          "shell.execute_reply.started": "2021-08-17T19:08:22.053737Z",
          "shell.execute_reply": "2021-08-17T19:08:22.112863Z"
        },
        "trusted": true,
        "colab": {
          "base_uri": "https://localhost:8080/",
          "height": 204
        },
        "id": "J4Xj2YtynmMD",
        "outputId": "11453705-63bb-42ba-f34b-d89c2f381f9d"
      },
      "source": [
        "import pandas as pd\n",
        "\n",
        "red_wine = pd.read_csv('red-wine.csv')\n",
        "red_wine.head()"
      ],
      "execution_count": 16,
      "outputs": [
        {
          "output_type": "execute_result",
          "data": {
            "text/html": [
              "<div>\n",
              "<style scoped>\n",
              "    .dataframe tbody tr th:only-of-type {\n",
              "        vertical-align: middle;\n",
              "    }\n",
              "\n",
              "    .dataframe tbody tr th {\n",
              "        vertical-align: top;\n",
              "    }\n",
              "\n",
              "    .dataframe thead th {\n",
              "        text-align: right;\n",
              "    }\n",
              "</style>\n",
              "<table border=\"1\" class=\"dataframe\">\n",
              "  <thead>\n",
              "    <tr style=\"text-align: right;\">\n",
              "      <th></th>\n",
              "      <th>fixed acidity</th>\n",
              "      <th>volatile acidity</th>\n",
              "      <th>citric acid</th>\n",
              "      <th>residual sugar</th>\n",
              "      <th>chlorides</th>\n",
              "      <th>free sulfur dioxide</th>\n",
              "      <th>total sulfur dioxide</th>\n",
              "      <th>density</th>\n",
              "      <th>pH</th>\n",
              "      <th>sulphates</th>\n",
              "      <th>alcohol</th>\n",
              "      <th>quality</th>\n",
              "    </tr>\n",
              "  </thead>\n",
              "  <tbody>\n",
              "    <tr>\n",
              "      <th>0</th>\n",
              "      <td>7.4</td>\n",
              "      <td>0.70</td>\n",
              "      <td>0.00</td>\n",
              "      <td>1.9</td>\n",
              "      <td>0.076</td>\n",
              "      <td>11.0</td>\n",
              "      <td>34.0</td>\n",
              "      <td>0.9978</td>\n",
              "      <td>3.51</td>\n",
              "      <td>0.56</td>\n",
              "      <td>9.4</td>\n",
              "      <td>5</td>\n",
              "    </tr>\n",
              "    <tr>\n",
              "      <th>1</th>\n",
              "      <td>7.8</td>\n",
              "      <td>0.88</td>\n",
              "      <td>0.00</td>\n",
              "      <td>2.6</td>\n",
              "      <td>0.098</td>\n",
              "      <td>25.0</td>\n",
              "      <td>67.0</td>\n",
              "      <td>0.9968</td>\n",
              "      <td>3.20</td>\n",
              "      <td>0.68</td>\n",
              "      <td>9.8</td>\n",
              "      <td>5</td>\n",
              "    </tr>\n",
              "    <tr>\n",
              "      <th>2</th>\n",
              "      <td>7.8</td>\n",
              "      <td>0.76</td>\n",
              "      <td>0.04</td>\n",
              "      <td>2.3</td>\n",
              "      <td>0.092</td>\n",
              "      <td>15.0</td>\n",
              "      <td>54.0</td>\n",
              "      <td>0.9970</td>\n",
              "      <td>3.26</td>\n",
              "      <td>0.65</td>\n",
              "      <td>9.8</td>\n",
              "      <td>5</td>\n",
              "    </tr>\n",
              "    <tr>\n",
              "      <th>3</th>\n",
              "      <td>11.2</td>\n",
              "      <td>0.28</td>\n",
              "      <td>0.56</td>\n",
              "      <td>1.9</td>\n",
              "      <td>0.075</td>\n",
              "      <td>17.0</td>\n",
              "      <td>60.0</td>\n",
              "      <td>0.9980</td>\n",
              "      <td>3.16</td>\n",
              "      <td>0.58</td>\n",
              "      <td>9.8</td>\n",
              "      <td>6</td>\n",
              "    </tr>\n",
              "    <tr>\n",
              "      <th>4</th>\n",
              "      <td>7.4</td>\n",
              "      <td>0.70</td>\n",
              "      <td>0.00</td>\n",
              "      <td>1.9</td>\n",
              "      <td>0.076</td>\n",
              "      <td>11.0</td>\n",
              "      <td>34.0</td>\n",
              "      <td>0.9978</td>\n",
              "      <td>3.51</td>\n",
              "      <td>0.56</td>\n",
              "      <td>9.4</td>\n",
              "      <td>5</td>\n",
              "    </tr>\n",
              "  </tbody>\n",
              "</table>\n",
              "</div>"
            ],
            "text/plain": [
              "   fixed acidity  volatile acidity  citric acid  ...  sulphates  alcohol  quality\n",
              "0            7.4              0.70         0.00  ...       0.56      9.4        5\n",
              "1            7.8              0.88         0.00  ...       0.68      9.8        5\n",
              "2            7.8              0.76         0.04  ...       0.65      9.8        5\n",
              "3           11.2              0.28         0.56  ...       0.58      9.8        6\n",
              "4            7.4              0.70         0.00  ...       0.56      9.4        5\n",
              "\n",
              "[5 rows x 12 columns]"
            ]
          },
          "metadata": {
            "tags": []
          },
          "execution_count": 16
        }
      ]
    },
    {
      "cell_type": "markdown",
      "metadata": {
        "id": "OwGdBJVjnmMD"
      },
      "source": [
        "You can get the number of rows and columns of a dataframe (or a Numpy array) with the `shape` attribute."
      ]
    },
    {
      "cell_type": "code",
      "metadata": {
        "execution": {
          "iopub.status.busy": "2021-08-17T19:08:56.338949Z",
          "iopub.execute_input": "2021-08-17T19:08:56.339629Z",
          "iopub.status.idle": "2021-08-17T19:08:56.347436Z",
          "shell.execute_reply.started": "2021-08-17T19:08:56.339570Z",
          "shell.execute_reply": "2021-08-17T19:08:56.346291Z"
        },
        "trusted": true,
        "colab": {
          "base_uri": "https://localhost:8080/"
        },
        "id": "9pA1YsMxnmMD",
        "outputId": "306e50eb-52c4-45ef-9034-0a81cacd2fcc"
      },
      "source": [
        "red_wine.shape # (rows, columns)"
      ],
      "execution_count": 17,
      "outputs": [
        {
          "output_type": "execute_result",
          "data": {
            "text/plain": [
              "(1599, 12)"
            ]
          },
          "metadata": {
            "tags": []
          },
          "execution_count": 17
        }
      ]
    },
    {
      "cell_type": "markdown",
      "metadata": {
        "id": "QdE9HF6enmMD"
      },
      "source": [
        "---\n",
        "\n",
        "# 1) Input shape #\n",
        "\n",
        "How well can we predict a wine's perceived quality from the physiochemical measurements?  \n",
        "\n",
        "The target is `'quality'`, and the remaining columns are the features.  How would you set the `input_shape` parameter for a Keras model on this task?"
      ]
    },
    {
      "cell_type": "code",
      "metadata": {
        "lines_to_next_cell": 0,
        "execution": {
          "iopub.status.busy": "2021-08-17T19:10:11.081519Z",
          "iopub.execute_input": "2021-08-17T19:10:11.082142Z",
          "iopub.status.idle": "2021-08-17T19:10:11.090526Z",
          "shell.execute_reply.started": "2021-08-17T19:10:11.082106Z",
          "shell.execute_reply": "2021-08-17T19:10:11.089534Z"
        },
        "trusted": true,
        "colab": {
          "base_uri": "https://localhost:8080/"
        },
        "id": "ayO2esR5nmMD",
        "outputId": "b6963583-c598-4b96-b99e-2db851a4da2d"
      },
      "source": [
        "# YOUR CODE HERE\n",
        "input_shape = [red_wine.shape[1] - 1]\n",
        "print(input_shape)"
      ],
      "execution_count": 18,
      "outputs": [
        {
          "output_type": "stream",
          "text": [
            "[11]\n"
          ],
          "name": "stdout"
        }
      ]
    },
    {
      "cell_type": "markdown",
      "metadata": {
        "id": "B4JMOjiTnmME"
      },
      "source": [
        "---\n",
        "\n",
        "# 2) Define a linear model\n",
        "\n",
        "Now define a linear model appropriate for this task. Pay attention to how many inputs and outputs the model should have."
      ]
    },
    {
      "cell_type": "code",
      "metadata": {
        "lines_to_next_cell": 0,
        "execution": {
          "iopub.status.busy": "2021-08-17T19:11:36.382972Z",
          "iopub.execute_input": "2021-08-17T19:11:36.383381Z",
          "iopub.status.idle": "2021-08-17T19:11:36.477760Z",
          "shell.execute_reply.started": "2021-08-17T19:11:36.383342Z",
          "shell.execute_reply": "2021-08-17T19:11:36.476576Z"
        },
        "trusted": true,
        "id": "trUSsdmxnmME"
      },
      "source": [
        "from tensorflow import keras\n",
        "from tensorflow.keras import layers\n",
        "\n",
        "# YOUR CODE HERE\n",
        "model = keras.Sequential([\n",
        "    layers.Dense(units=1,\n",
        "                 input_shape=input_shape)\n",
        "])\n"
      ],
      "execution_count": 19,
      "outputs": []
    },
    {
      "cell_type": "markdown",
      "metadata": {
        "id": "62FpkWzqnmME"
      },
      "source": [
        "---\n",
        "\n",
        "# 3) Look at the weights\n",
        "\n",
        "Internally, Keras represents the weights of a neural network with **tensors**. Tensors are basically TensorFlow's version of a Numpy array with a few differences that make them better suited to deep learning. One of the most important is that tensors are compatible with [GPU](https://www.kaggle.com/docs/efficient-gpu-usage) and [TPU](https://www.kaggle.com/docs/tpu)) accelerators. TPUs, in fact, are designed specifically for tensor computations.\n",
        "\n",
        "A model's weights are kept in its `weights` attribute as a list of tensors. Get the weights of the model you defined above."
      ]
    },
    {
      "cell_type": "code",
      "metadata": {
        "lines_to_next_cell": 0,
        "execution": {
          "iopub.status.busy": "2021-08-17T19:13:24.485740Z",
          "iopub.execute_input": "2021-08-17T19:13:24.486508Z",
          "iopub.status.idle": "2021-08-17T19:13:24.504228Z",
          "shell.execute_reply.started": "2021-08-17T19:13:24.486457Z",
          "shell.execute_reply": "2021-08-17T19:13:24.502950Z"
        },
        "trusted": true,
        "colab": {
          "base_uri": "https://localhost:8080/"
        },
        "id": "6DEIRIPNnmMF",
        "outputId": "bfa63b0b-a9e3-4b93-f7a9-6a550e76c291"
      },
      "source": [
        "# YOUR CODE HERE\n",
        "w, b = model.weights\n",
        "\n",
        "print(\"Weights\\n{}\\n\\nBias\\n{}\".format(w, b))\n"
      ],
      "execution_count": 20,
      "outputs": [
        {
          "output_type": "stream",
          "text": [
            "Weights\n",
            "<tf.Variable 'dense_5/kernel:0' shape=(11, 1) dtype=float32, numpy=\n",
            "array([[-0.70228267],\n",
            "       [ 0.67138296],\n",
            "       [-0.11403453],\n",
            "       [ 0.42903227],\n",
            "       [ 0.2661752 ],\n",
            "       [-0.39919302],\n",
            "       [ 0.45615906],\n",
            "       [ 0.35328335],\n",
            "       [ 0.21228069],\n",
            "       [ 0.34664422],\n",
            "       [-0.3823584 ]], dtype=float32)>\n",
            "\n",
            "Bias\n",
            "<tf.Variable 'dense_5/bias:0' shape=(1,) dtype=float32, numpy=array([0.], dtype=float32)>\n"
          ],
          "name": "stdout"
        }
      ]
    },
    {
      "cell_type": "markdown",
      "metadata": {
        "id": "vgtQgHMHnmMF"
      },
      "source": [
        "(By the way, Keras represents weights as tensors, but also uses tensors to represent data. When you set the `input_shape` argument, you are telling Keras the dimensions of the array it should expect for each example in the training data. Setting `input_shape=[3]` would create a network accepting vectors of length 3, like `[0.2, 0.4, 0.6]`.)\n",
        " \n",
        "---\n",
        "# Optional: Plot the output of an untrained linear model\n",
        " \n",
        "The kinds of problems we'll work on through Lesson 5 will be *regression* problems, where the goal is to predict some numeric target. Regression problems are like \"curve-fitting\" problems: we're trying to find a curve that best fits the data. Let's take a look at the \"curve\" produced by a linear model. (You've probably guessed that it's a line!)\n",
        " \n",
        "We mentioned that before training a model's weights are set randomly. Run the cell below a few times to see the different lines produced with a random initialization. (There's no coding for this exercise -- it's just a demonstration.)"
      ]
    },
    {
      "cell_type": "code",
      "metadata": {
        "lines_to_next_cell": 0,
        "execution": {
          "iopub.status.busy": "2021-08-17T19:16:47.957883Z",
          "iopub.execute_input": "2021-08-17T19:16:47.958375Z",
          "iopub.status.idle": "2021-08-17T19:16:48.521945Z",
          "shell.execute_reply.started": "2021-08-17T19:16:47.958334Z",
          "shell.execute_reply": "2021-08-17T19:16:48.520605Z"
        },
        "trusted": true,
        "colab": {
          "base_uri": "https://localhost:8080/",
          "height": 407
        },
        "id": "Ok8rV5ifnmMF",
        "outputId": "63af4dfa-eaf8-4325-b5e5-b4a52719c24c"
      },
      "source": [
        "import tensorflow as tf\n",
        "import matplotlib.pyplot as plt\n",
        "\n",
        "model = keras.Sequential([\n",
        "    layers.Dense(1, input_shape=[1]),\n",
        "])\n",
        "\n",
        "x = tf.linspace(-1.0, 1.0, 100)\n",
        "y = model.predict(x)\n",
        "\n",
        "plt.figure(dpi=100)\n",
        "plt.plot(x, y, 'k')\n",
        "plt.xlim(-1, 1)\n",
        "plt.ylim(-1, 1)\n",
        "plt.xlabel(\"Input: x\")\n",
        "plt.ylabel(\"Target y\")\n",
        "w, b = model.weights # you could also use model.get_weights() here\n",
        "plt.title(\"Weight: {:0.2f}\\nBias: {:0.2f}\".format(w[0][0], b[0]))\n",
        "plt.show()"
      ],
      "execution_count": 21,
      "outputs": [
        {
          "output_type": "display_data",
          "data": {
            "image/png": "[encoded data removed]",
            "text/plain": [
              "<Figure size 600x400 with 1 Axes>"
            ]
          },
          "metadata": {
            "tags": []
          }
        }
      ]
    }
  ]
}