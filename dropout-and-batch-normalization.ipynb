{
  "nbformat": 4,
  "nbformat_minor": 0,
  "metadata": {
    "jupytext": {
      "cell_metadata_filter": "-all",
      "formats": "ipynb"
    },
    "kernelspec": {
      "display_name": "Python 3",
      "language": "python",
      "name": "python3"
    },
    "language_info": {
      "name": "python",
      "version": "3.7.10",
      "mimetype": "text/x-python",
      "codemirror_mode": {
        "name": "ipython",
        "version": 3
      },
      "pygments_lexer": "ipython3",
      "nbconvert_exporter": "python",
      "file_extension": ".py"
    },
    "colab": {
      "name": "dropout-and-batch-normalization.ipynb",
      "provenance": [],
      "include_colab_link": true
    }
  },
  "cells": [
    {
      "cell_type": "markdown",
      "metadata": {
        "id": "view-in-github",
        "colab_type": "text"
      },
      "source": [
        "<a href=\"https://colab.research.google.com/github/copev313/Deep-Learning-Introduction/blob/main/dropout-and-batch-normalization.ipynb\" target=\"_parent\"><img src=\"https://colab.research.google.com/assets/colab-badge.svg\" alt=\"Open In Colab\"/></a>"
      ]
    },
    {
      "cell_type": "markdown",
      "metadata": {
        "id": "n7X2mbQ_AFba"
      },
      "source": [
        "# Dropout & Batch Normalization\n",
        "\n",
        "---\n"
      ]
    },
    {
      "cell_type": "markdown",
      "metadata": {
        "id": "EB8MSztVAFbd"
      },
      "source": [
        "## Introduction #\n",
        "\n",
        "In this exercise, you'll add dropout to the *Spotify* model from Exercise 4 and see how batch normalization can let you successfully train models on difficult datasets.\n",
        "\n",
        "Run the next cell to get started!"
      ]
    },
    {
      "cell_type": "code",
      "metadata": {
        "execution": {
          "iopub.status.busy": "2021-08-26T17:53:47.032404Z",
          "iopub.execute_input": "2021-08-26T17:53:47.032866Z",
          "iopub.status.idle": "2021-08-26T17:53:47.039053Z",
          "shell.execute_reply.started": "2021-08-26T17:53:47.032829Z",
          "shell.execute_reply": "2021-08-26T17:53:47.038367Z"
        },
        "trusted": true,
        "id": "Y8x10yRBAFbf"
      },
      "source": [
        "# Setup plotting\n",
        "import matplotlib.pyplot as plt\n",
        "plt.style.use('seaborn-whitegrid')\n",
        "# Set Matplotlib defaults\n",
        "plt.rc('figure', autolayout=True)\n",
        "plt.rc('axes', labelweight='bold', labelsize='large',\n",
        "       titleweight='bold', titlesize=18, titlepad=10)\n",
        "plt.rc('animation', html='html5')\n"
      ],
      "execution_count": 2,
      "outputs": []
    },
    {
      "cell_type": "markdown",
      "metadata": {
        "id": "dFRyqL8QAFbg"
      },
      "source": [
        "First load the *Spotify* dataset."
      ]
    },
    {
      "cell_type": "code",
      "metadata": {
        "execution": {
          "iopub.status.busy": "2021-08-26T17:53:49.871913Z",
          "iopub.execute_input": "2021-08-26T17:53:49.872439Z",
          "iopub.status.idle": "2021-08-26T17:53:57.585696Z",
          "shell.execute_reply.started": "2021-08-26T17:53:49.872392Z",
          "shell.execute_reply": "2021-08-26T17:53:57.584492Z"
        },
        "trusted": true,
        "colab": {
          "base_uri": "https://localhost:8080/"
        },
        "id": "kLD9HT5JAFbh",
        "outputId": "3127e72b-929e-46d3-cb72-bbb5e6816c26"
      },
      "source": [
        "import pandas as pd\n",
        "from sklearn.preprocessing import StandardScaler, OneHotEncoder\n",
        "from sklearn.compose import make_column_transformer\n",
        "from sklearn.model_selection import GroupShuffleSplit\n",
        "\n",
        "from tensorflow import keras\n",
        "from tensorflow.keras import layers\n",
        "from tensorflow.keras import callbacks\n",
        "\n",
        "spotify = pd.read_csv('spotify.csv')\n",
        "\n",
        "X = spotify.copy().dropna()\n",
        "y = X.pop('track_popularity')\n",
        "artists = X['track_artist']\n",
        "\n",
        "features_num = ['danceability', 'energy', 'key', 'loudness', 'mode',\n",
        "                'speechiness', 'acousticness', 'instrumentalness',\n",
        "                'liveness', 'valence', 'tempo', 'duration_ms']\n",
        "features_cat = ['playlist_genre']\n",
        "\n",
        "preprocessor = make_column_transformer(\n",
        "    (StandardScaler(), features_num),\n",
        "    (OneHotEncoder(), features_cat),\n",
        ")\n",
        "\n",
        "def group_split(X, y, group, train_size=0.75):\n",
        "    splitter = GroupShuffleSplit(train_size=train_size)\n",
        "    train, test = next(splitter.split(X, y, groups=group))\n",
        "    return (X.iloc[train], X.iloc[test], y.iloc[train], y.iloc[test])\n",
        "\n",
        "X_train, X_valid, y_train, y_valid = group_split(X, y, artists)\n",
        "\n",
        "X_train = preprocessor.fit_transform(X_train)\n",
        "X_valid = preprocessor.transform(X_valid)\n",
        "y_train = y_train / 100\n",
        "y_valid = y_valid / 100\n",
        "\n",
        "input_shape = [X_train.shape[1]]\n",
        "print(\"Input shape: {}\".format(input_shape))"
      ],
      "execution_count": 3,
      "outputs": [
        {
          "output_type": "stream",
          "text": [
            "Input shape: [18]\n"
          ],
          "name": "stdout"
        }
      ]
    },
    {
      "cell_type": "markdown",
      "metadata": {
        "id": "E6pCBTSBAFbi"
      },
      "source": [
        "---\n",
        "\n",
        "## 1) Add Dropout to Spotify Model\n",
        "\n",
        "Here is the last model from Exercise 4. Add two dropout layers, one after the `Dense` layer with 128 units, and one after the `Dense` layer with 64 units. Set the dropout rate on both to `0.3`."
      ]
    },
    {
      "cell_type": "code",
      "metadata": {
        "lines_to_next_cell": 2,
        "execution": {
          "iopub.status.busy": "2021-08-26T17:54:54.395872Z",
          "iopub.execute_input": "2021-08-26T17:54:54.396282Z",
          "iopub.status.idle": "2021-08-26T17:54:54.518970Z",
          "shell.execute_reply.started": "2021-08-26T17:54:54.396247Z",
          "shell.execute_reply": "2021-08-26T17:54:54.517957Z"
        },
        "trusted": true,
        "id": "y51neQDoAFbj"
      },
      "source": [
        "# Add two 30% dropout layers, one after 128 and one after 64.\n",
        "model = keras.Sequential([\n",
        "    layers.Dense(128, activation='relu', input_shape=input_shape),\n",
        "    layers.Dropout(0.3),\n",
        "    layers.Dense(64, activation='relu'),\n",
        "    layers.Dropout(0.3),\n",
        "    layers.Dense(1)\n",
        "])\n"
      ],
      "execution_count": 5,
      "outputs": []
    },
    {
      "cell_type": "markdown",
      "metadata": {
        "id": "TJm6StsXAFbl"
      },
      "source": [
        "Now run this next cell to train the model see the effect of adding dropout."
      ]
    },
    {
      "cell_type": "code",
      "metadata": {
        "execution": {
          "iopub.status.busy": "2021-08-26T17:55:04.405089Z",
          "iopub.execute_input": "2021-08-26T17:55:04.405482Z",
          "iopub.status.idle": "2021-08-26T17:55:18.541166Z",
          "shell.execute_reply.started": "2021-08-26T17:55:04.405441Z",
          "shell.execute_reply": "2021-08-26T17:55:18.539922Z"
        },
        "trusted": true,
        "colab": {
          "base_uri": "https://localhost:8080/",
          "height": 314
        },
        "id": "xWWfzHmgAFbn",
        "outputId": "549c9b27-adfe-4cbd-d2fb-d9b637ed521e"
      },
      "source": [
        "model.compile(\n",
        "    optimizer='adam',\n",
        "    loss='mae',\n",
        ")\n",
        "\n",
        "history = model.fit(\n",
        "    X_train, y_train,\n",
        "    validation_data=(X_valid, y_valid),\n",
        "    batch_size=512,\n",
        "    epochs=50,\n",
        "    verbose=0,\n",
        ")\n",
        "\n",
        "history_df = pd.DataFrame(history.history)\n",
        "history_df.loc[:, ['loss', 'val_loss']].plot()\n",
        "print(\"Minimum Validation Loss: {:0.4f}\".format(history_df['val_loss'].min()))"
      ],
      "execution_count": 6,
      "outputs": [
        {
          "output_type": "stream",
          "text": [
            "Minimum Validation Loss: 0.1901\n"
          ],
          "name": "stdout"
        },
        {
          "output_type": "display_data",
          "data": {
            "image/png": "[encoded data removed]",
            "text/plain": [
              "<Figure size 432x288 with 1 Axes>"
            ]
          },
          "metadata": {}
        }
      ]
    },
    {
      "cell_type": "markdown",
      "metadata": {
        "id": "MlQV27C_AFbn"
      },
      "source": [
        "---\n",
        "\n",
        "## 2) Evaluate Dropout\n",
        "\n",
        "Recall that this model tended to overfit the data around epoch 5. Did adding dropout seem to help prevent overfitting this time?"
      ]
    },
    {
      "cell_type": "markdown",
      "metadata": {
        "id": "MOVLnrxoAFbo"
      },
      "source": [
        "Now, we'll switch topics to explore how batch normalization can fix problems in training.\n",
        "\n",
        "Load the *Concrete* dataset. We won't do any standardization this time. This will make the effect of batch normalization much more apparent."
      ]
    },
    {
      "cell_type": "code",
      "metadata": {
        "execution": {
          "iopub.status.busy": "2021-08-26T17:56:56.697375Z",
          "iopub.execute_input": "2021-08-26T17:56:56.697800Z",
          "iopub.status.idle": "2021-08-26T17:56:56.725276Z",
          "shell.execute_reply.started": "2021-08-26T17:56:56.697766Z",
          "shell.execute_reply": "2021-08-26T17:56:56.724180Z"
        },
        "trusted": true,
        "id": "iEE8WE8_AFbp"
      },
      "source": [
        "import pandas as pd\n",
        "\n",
        "concrete = pd.read_csv('concrete.csv')\n",
        "df = concrete.copy()\n",
        "\n",
        "df_train = df.sample(frac=0.7, random_state=0)\n",
        "df_valid = df.drop(df_train.index)\n",
        "\n",
        "X_train = df_train.drop('CompressiveStrength', axis=1)\n",
        "X_valid = df_valid.drop('CompressiveStrength', axis=1)\n",
        "y_train = df_train['CompressiveStrength']\n",
        "y_valid = df_valid['CompressiveStrength']\n",
        "\n",
        "input_shape = [X_train.shape[1]]"
      ],
      "execution_count": 9,
      "outputs": []
    },
    {
      "cell_type": "markdown",
      "metadata": {
        "id": "Fr8XwKqnAFbp"
      },
      "source": [
        "Run the following cell to train the network on the unstandardized *Concrete* data."
      ]
    },
    {
      "cell_type": "code",
      "metadata": {
        "execution": {
          "iopub.status.busy": "2021-08-26T17:57:13.199669Z",
          "iopub.execute_input": "2021-08-26T17:57:13.200058Z",
          "iopub.status.idle": "2021-08-26T17:57:26.762401Z",
          "shell.execute_reply.started": "2021-08-26T17:57:13.200022Z",
          "shell.execute_reply": "2021-08-26T17:57:26.761374Z"
        },
        "trusted": true,
        "colab": {
          "base_uri": "https://localhost:8080/",
          "height": 314
        },
        "id": "F1giG62yAFbp",
        "outputId": "3921987f-d316-406d-c615-7bbfd48e065b"
      },
      "source": [
        "model = keras.Sequential([\n",
        "    layers.Dense(512, activation='relu', input_shape=input_shape),\n",
        "    layers.Dense(512, activation='relu'),    \n",
        "    layers.Dense(512, activation='relu'),\n",
        "    layers.Dense(1),\n",
        "])\n",
        "\n",
        "# SGD is more sensitive to differences of scale:\n",
        "model.compile(\n",
        "    optimizer='sgd',\n",
        "    loss='mae',\n",
        "    metrics=['mae'],\n",
        ")\n",
        "\n",
        "history = model.fit(\n",
        "    X_train, y_train,\n",
        "    validation_data=(X_valid, y_valid),\n",
        "    batch_size=64,\n",
        "    epochs=100,\n",
        "    verbose=0,\n",
        ")\n",
        "\n",
        "history_df = pd.DataFrame(history.history)\n",
        "history_df.loc[0:, ['loss', 'val_loss']].plot()\n",
        "print((\"Minimum Validation Loss: {:0.4f}\").format(history_df['val_loss'].min()))"
      ],
      "execution_count": 10,
      "outputs": [
        {
          "output_type": "stream",
          "text": [
            "Minimum Validation Loss: nan\n"
          ],
          "name": "stdout"
        },
        {
          "output_type": "display_data",
          "data": {
            "image/png": "[encoded data removed]",
            "text/plain": [
              "<Figure size 432x288 with 1 Axes>"
            ]
          },
          "metadata": {}
        }
      ]
    },
    {
      "cell_type": "markdown",
      "metadata": {
        "id": "MydfuEGsAFbq"
      },
      "source": [
        "Did you end up with a blank graph? Trying to train this network on this dataset will usually fail. Even when it does converge (due to a lucky weight initialization), it tends to converge to a very large number.\n",
        "\n",
        "---\n",
        "\n",
        "## 3) Add Batch Normalization Layers\n",
        "\n",
        "Batch normalization can help correct problems like this.\n",
        "\n",
        "Add four `BatchNormalization` layers, one before each of the dense layers. (Remember to move the `input_shape` argument to the new first layer.)"
      ]
    },
    {
      "cell_type": "code",
      "metadata": {
        "lines_to_next_cell": 0,
        "execution": {
          "iopub.status.busy": "2021-08-26T17:59:20.311591Z",
          "iopub.execute_input": "2021-08-26T17:59:20.311956Z",
          "iopub.status.idle": "2021-08-26T17:59:20.416695Z",
          "shell.execute_reply.started": "2021-08-26T17:59:20.311922Z",
          "shell.execute_reply": "2021-08-26T17:59:20.415751Z"
        },
        "trusted": true,
        "id": "6CJxyHubAFbq"
      },
      "source": [
        "# Add a BatchNormalization layer before each Dense layer:\n",
        "model = keras.Sequential([\n",
        "    layers.BatchNormalization(input_shape=input_shape),\n",
        "    layers.Dense(512, activation='relu'),\n",
        "    layers.BatchNormalization(),\n",
        "    layers.Dense(512, activation='relu'),\n",
        "    layers.BatchNormalization(),\n",
        "    layers.Dense(512, activation='relu'),\n",
        "    layers.BatchNormalization(),\n",
        "    layers.Dense(1),\n",
        "])\n"
      ],
      "execution_count": 11,
      "outputs": []
    },
    {
      "cell_type": "markdown",
      "metadata": {
        "id": "6GF8Z0D0AFbr"
      },
      "source": [
        "Run the next cell to see if batch normalization will let us train the model."
      ]
    },
    {
      "cell_type": "code",
      "metadata": {
        "execution": {
          "iopub.status.busy": "2021-08-26T18:02:48.867795Z",
          "iopub.execute_input": "2021-08-26T18:02:48.868313Z",
          "iopub.status.idle": "2021-08-26T18:03:05.784222Z",
          "shell.execute_reply.started": "2021-08-26T18:02:48.868279Z",
          "shell.execute_reply": "2021-08-26T18:03:05.783170Z"
        },
        "trusted": true,
        "colab": {
          "base_uri": "https://localhost:8080/",
          "height": 314
        },
        "id": "G21uYxGNAFbs",
        "outputId": "7ffa3da2-d0ca-40fa-ae0f-c908884fbdcb"
      },
      "source": [
        "model.compile(\n",
        "    optimizer='sgd',\n",
        "    loss='mae',\n",
        "    metrics=['mae'],\n",
        ")\n",
        "\n",
        "EPOCHS = 100\n",
        "\n",
        "history = model.fit(\n",
        "    X_train, y_train,\n",
        "    validation_data=(X_valid, y_valid),\n",
        "    batch_size=64,\n",
        "    epochs=EPOCHS,\n",
        "    verbose=0,\n",
        ")\n",
        "\n",
        "history_df = pd.DataFrame(history.history)\n",
        "history_df.loc[0:, ['loss', 'val_loss']].plot()\n",
        "print((\"Minimum Validation Loss: {:0.4f}\").format(history_df['val_loss'].min()))"
      ],
      "execution_count": 12,
      "outputs": [
        {
          "output_type": "stream",
          "text": [
            "Minimum Validation Loss: 3.9298\n"
          ],
          "name": "stdout"
        },
        {
          "output_type": "display_data",
          "data": {
            "image/png": "[encoded data removed]",
            "text/plain": [
              "<Figure size 432x288 with 1 Axes>"
            ]
          },
          "metadata": {}
        }
      ]
    },
    {
      "cell_type": "markdown",
      "metadata": {
        "id": "_YGi_bfTAFbs"
      },
      "source": [
        "---\n",
        "## 4) Evaluate Batch Normalization\n",
        "\n",
        "Did adding batch normalization help?"
      ]
    }
  ]
}