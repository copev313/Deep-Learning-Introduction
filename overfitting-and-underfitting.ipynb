{
  "nbformat": 4,
  "nbformat_minor": 0,
  "metadata": {
    "kernelspec": {
      "language": "python",
      "display_name": "Python 3",
      "name": "python3"
    },
    "language_info": {
      "name": "python",
      "version": "3.7.10",
      "mimetype": "text/x-python",
      "codemirror_mode": {
        "name": "ipython",
        "version": 3
      },
      "pygments_lexer": "ipython3",
      "nbconvert_exporter": "python",
      "file_extension": ".py"
    },
    "colab": {
      "name": "overfitting-and-underfitting.ipynb",
      "provenance": [],
      "collapsed_sections": [],
      "include_colab_link": true
    }
  },
  "cells": [
    {
      "cell_type": "markdown",
      "metadata": {
        "id": "view-in-github",
        "colab_type": "text"
      },
      "source": [
        "<a href=\"https://colab.research.google.com/github/copev313/Deep-Learning-Introduction/blob/main/overfitting-and-underfitting.ipynb\" target=\"_parent\"><img src=\"https://colab.research.google.com/assets/colab-badge.svg\" alt=\"Open In Colab\"/></a>"
      ]
    },
    {
      "cell_type": "markdown",
      "metadata": {
        "id": "WhLgGEbHApo0"
      },
      "source": [
        "# Overfitting & Underfitting\n",
        "\n",
        "---\n"
      ]
    },
    {
      "cell_type": "markdown",
      "metadata": {
        "id": "laa8YtvkApo3"
      },
      "source": [
        "## Introduction #\n",
        "\n",
        "In this exercise, you’ll learn how to improve training outcomes by including an early stopping callback to prevent overfitting.\n"
      ]
    },
    {
      "cell_type": "code",
      "metadata": {
        "execution": {
          "iopub.status.busy": "2021-08-26T15:49:43.775341Z",
          "iopub.execute_input": "2021-08-26T15:49:43.775728Z",
          "iopub.status.idle": "2021-08-26T15:49:43.782007Z",
          "shell.execute_reply.started": "2021-08-26T15:49:43.775695Z",
          "shell.execute_reply": "2021-08-26T15:49:43.781132Z"
        },
        "trusted": true,
        "id": "17SznN6iApo4"
      },
      "source": [
        "# Setup plotting\n",
        "import matplotlib.pyplot as plt\n",
        "plt.style.use('seaborn-whitegrid')\n",
        "# Set Matplotlib defaults\n",
        "plt.rc('figure', autolayout=True)\n",
        "plt.rc('axes', labelweight='bold', labelsize='large',\n",
        "       titleweight='bold', titlesize=18, titlepad=10)\n",
        "plt.rc('animation', html='html5')\n"
      ],
      "execution_count": 1,
      "outputs": []
    },
    {
      "cell_type": "markdown",
      "metadata": {
        "id": "OFxtVpRwApo6"
      },
      "source": [
        "First load the *Spotify* dataset. Your task will be to predict the popularity of a song based on various audio features, like `'tempo'`, `'danceability'`, and `'mode'`."
      ]
    },
    {
      "cell_type": "code",
      "metadata": {
        "execution": {
          "iopub.status.busy": "2021-08-26T15:48:54.169945Z",
          "iopub.execute_input": "2021-08-26T15:48:54.170285Z",
          "iopub.status.idle": "2021-08-26T15:48:54.491258Z",
          "shell.execute_reply.started": "2021-08-26T15:48:54.170256Z",
          "shell.execute_reply": "2021-08-26T15:48:54.490414Z"
        },
        "trusted": true,
        "colab": {
          "base_uri": "https://localhost:8080/"
        },
        "id": "QRqmSXd2Apo7",
        "outputId": "6cd226ed-c06f-44f3-ff44-97105062985b"
      },
      "source": [
        "import pandas as pd\n",
        "from sklearn.preprocessing import StandardScaler, OneHotEncoder\n",
        "from sklearn.compose import make_column_transformer\n",
        "from sklearn.model_selection import GroupShuffleSplit\n",
        "\n",
        "from tensorflow import keras\n",
        "from tensorflow.keras import layers\n",
        "from tensorflow.keras import callbacks\n",
        "\n",
        "spotify = pd.read_csv('spotify.csv')\n",
        "\n",
        "X = spotify.copy().dropna()\n",
        "y = X.pop('track_popularity')\n",
        "artists = X['track_artist']\n",
        "\n",
        "features_num = ['danceability', 'energy', 'key', 'loudness', 'mode',\n",
        "                'speechiness', 'acousticness', 'instrumentalness',\n",
        "                'liveness', 'valence', 'tempo', 'duration_ms']\n",
        "\n",
        "features_cat = ['playlist_genre']\n",
        "\n",
        "preprocessor = make_column_transformer(\n",
        "    (StandardScaler(), features_num),\n",
        "    (OneHotEncoder(), features_cat),\n",
        ")\n",
        "\n",
        "'''\n",
        "Do a \"grouped\" split to keep all of an artist's songs in one split or the\n",
        "other. This is to help prevent signal leakage.\n",
        "'''\n",
        "def group_split(X, y, group, train_size=0.75):\n",
        "    splitter = GroupShuffleSplit(train_size=train_size)\n",
        "    train, test = next(splitter.split(X, y, groups=group))\n",
        "    return (X.iloc[train], X.iloc[test], y.iloc[train], y.iloc[test])\n",
        "\n",
        "X_train, X_valid, y_train, y_valid = group_split(X, y, artists)\n",
        "\n",
        "X_train = preprocessor.fit_transform(X_train)\n",
        "X_valid = preprocessor.transform(X_valid)\n",
        "\n",
        "# Popularity is on a scale 0-100, so this rescales to 0-1:\n",
        "y_train = y_train / 100 \n",
        "y_valid = y_valid / 100\n",
        "\n",
        "input_shape = [X_train.shape[1]]\n",
        "print(\"Input shape: {}\".format(input_shape))\n"
      ],
      "execution_count": 2,
      "outputs": [
        {
          "output_type": "stream",
          "text": [
            "Input shape: [18]\n"
          ],
          "name": "stdout"
        }
      ]
    },
    {
      "cell_type": "markdown",
      "metadata": {
        "id": "O1NDcpLnApo8"
      },
      "source": [
        "Let's start with the simplest network, a linear model. This model has low capacity.\n",
        "\n",
        "Run this next cell without any changes to train a linear model on the *Spotify* dataset."
      ]
    },
    {
      "cell_type": "code",
      "metadata": {
        "lines_to_next_cell": 0,
        "execution": {
          "iopub.status.busy": "2021-08-26T15:50:01.450061Z",
          "iopub.execute_input": "2021-08-26T15:50:01.450412Z",
          "iopub.status.idle": "2021-08-26T15:50:07.414592Z",
          "shell.execute_reply.started": "2021-08-26T15:50:01.45038Z",
          "shell.execute_reply": "2021-08-26T15:50:07.41364Z"
        },
        "trusted": true,
        "colab": {
          "base_uri": "https://localhost:8080/",
          "height": 314
        },
        "id": "qtgO28SJApo9",
        "outputId": "b7ee239c-104b-4209-b7ee-8428d5d7e0ff"
      },
      "source": [
        "model = keras.Sequential([\n",
        "    layers.Dense(1, input_shape=input_shape),\n",
        "])\n",
        "\n",
        "model.compile(\n",
        "    optimizer='adam',\n",
        "    loss='mae',\n",
        ")\n",
        "\n",
        "history = model.fit(\n",
        "    X_train, y_train,\n",
        "    validation_data=(X_valid, y_valid),\n",
        "    batch_size=512,\n",
        "    epochs=50,\n",
        "    verbose=0,\n",
        ")\n",
        "\n",
        "history_df = pd.DataFrame(history.history)\n",
        "history_df.loc[0:40, ['loss', 'val_loss']].plot()\n",
        "print(\"Minimum Validation Loss: {:0.4f}\".format(history_df['val_loss'].min()));"
      ],
      "execution_count": 6,
      "outputs": [
        {
          "output_type": "stream",
          "text": [
            "Minimum Validation Loss: 0.1916\n"
          ],
          "name": "stdout"
        },
        {
          "output_type": "display_data",
          "data": {
            "image/png": "[encoded data removed]",
            "text/plain": [
              "<Figure size 432x288 with 1 Axes>"
            ]
          },
          "metadata": {
            "needs_background": "light"
          }
        }
      ]
    },
    {
      "cell_type": "markdown",
      "metadata": {
        "id": "UMBijUk7Apo-"
      },
      "source": [
        "It's not uncommon for the curves to follow a \"hockey stick\" pattern like you see here. This makes the final part of training hard to see, so let's start at epoch 10 instead:"
      ]
    },
    {
      "cell_type": "code",
      "metadata": {
        "execution": {
          "iopub.status.busy": "2021-08-26T15:50:21.727402Z",
          "iopub.execute_input": "2021-08-26T15:50:21.727769Z",
          "iopub.status.idle": "2021-08-26T15:50:22.002409Z",
          "shell.execute_reply.started": "2021-08-26T15:50:21.727731Z",
          "shell.execute_reply": "2021-08-26T15:50:22.001405Z"
        },
        "trusted": true,
        "colab": {
          "base_uri": "https://localhost:8080/",
          "height": 314
        },
        "id": "rGihEcSXApo_",
        "outputId": "b9bd0407-b0a9-4d00-f52f-1af8f25a4e3c"
      },
      "source": [
        "# Start the plot at epoch 10:\n",
        "history_df.loc[10:40, ['loss', 'val_loss']].plot()\n",
        "print(\"Minimum Validation Loss: {:0.4f}\".format(history_df['val_loss'].min()));"
      ],
      "execution_count": 8,
      "outputs": [
        {
          "output_type": "stream",
          "text": [
            "Minimum Validation Loss: 0.1916\n"
          ],
          "name": "stdout"
        },
        {
          "output_type": "display_data",
          "data": {
            "image/png": "[encoded data removed]",
            "text/plain": [
              "<Figure size 432x288 with 1 Axes>"
            ]
          },
          "metadata": {
            "needs_background": "light"
          }
        }
      ]
    },
    {
      "cell_type": "markdown",
      "metadata": {
        "id": "dLl-Xqa4AppB"
      },
      "source": [
        "## 1) Evaluate Baseline\n",
        "\n",
        "What do you think? Would you say this model is underfitting, overfitting, just right?"
      ]
    },
    {
      "cell_type": "markdown",
      "metadata": {
        "id": "jzDpX2U7AppB"
      },
      "source": [
        "Now let's add some capacity to our network. We'll add three hidden layers with 128 units each. Run the next cell to train the network and see the learning curves."
      ]
    },
    {
      "cell_type": "code",
      "metadata": {
        "execution": {
          "iopub.status.busy": "2021-08-26T15:51:31.243165Z",
          "iopub.execute_input": "2021-08-26T15:51:31.243528Z",
          "iopub.status.idle": "2021-08-26T15:51:40.882378Z",
          "shell.execute_reply.started": "2021-08-26T15:51:31.243485Z",
          "shell.execute_reply": "2021-08-26T15:51:40.881294Z"
        },
        "trusted": true,
        "colab": {
          "base_uri": "https://localhost:8080/",
          "height": 1000
        },
        "id": "4MXfANE5AppC",
        "outputId": "d139f5ce-715d-4be4-cc9a-dad1edf8d61d"
      },
      "source": [
        "model = keras.Sequential([\n",
        "    layers.Dense(128, activation='relu', input_shape=input_shape),\n",
        "    layers.Dense(64, activation='relu'),\n",
        "    layers.Dense(1)\n",
        "])\n",
        "\n",
        "model.compile(\n",
        "    optimizer='adam',\n",
        "    loss='mae',\n",
        ")\n",
        "\n",
        "history = model.fit(\n",
        "    X_train, y_train,\n",
        "    validation_data=(X_valid, y_valid),\n",
        "    batch_size=512,\n",
        "    epochs=50,\n",
        ")\n",
        "\n",
        "history_df = pd.DataFrame(history.history)\n",
        "history_df.loc[:, ['loss', 'val_loss']].plot()\n",
        "print(\"Minimum Validation Loss: {:0.4f}\".format(history_df['val_loss'].min()));"
      ],
      "execution_count": 9,
      "outputs": [
        {
          "output_type": "stream",
          "text": [
            "Epoch 1/50\n",
            "49/49 [==============================] - 1s 7ms/step - loss: 0.2178 - val_loss: 0.1973\n",
            "Epoch 2/50\n",
            "49/49 [==============================] - 0s 4ms/step - loss: 0.1996 - val_loss: 0.1939\n",
            "Epoch 3/50\n",
            "49/49 [==============================] - 0s 4ms/step - loss: 0.1958 - val_loss: 0.1927\n",
            "Epoch 4/50\n",
            "49/49 [==============================] - 0s 4ms/step - loss: 0.1932 - val_loss: 0.1912\n",
            "Epoch 5/50\n",
            "49/49 [==============================] - 0s 4ms/step - loss: 0.1912 - val_loss: 0.1912\n",
            "Epoch 6/50\n",
            "49/49 [==============================] - 0s 5ms/step - loss: 0.1898 - val_loss: 0.1939\n",
            "Epoch 7/50\n",
            "49/49 [==============================] - 0s 4ms/step - loss: 0.1899 - val_loss: 0.1914\n",
            "Epoch 8/50\n",
            "49/49 [==============================] - 0s 4ms/step - loss: 0.1880 - val_loss: 0.1898\n",
            "Epoch 9/50\n",
            "49/49 [==============================] - 0s 4ms/step - loss: 0.1864 - val_loss: 0.1929\n",
            "Epoch 10/50\n",
            "49/49 [==============================] - 0s 4ms/step - loss: 0.1858 - val_loss: 0.1913\n",
            "Epoch 11/50\n",
            "49/49 [==============================] - 0s 4ms/step - loss: 0.1856 - val_loss: 0.1921\n",
            "Epoch 12/50\n",
            "49/49 [==============================] - 0s 4ms/step - loss: 0.1848 - val_loss: 0.1915\n",
            "Epoch 13/50\n",
            "49/49 [==============================] - 0s 4ms/step - loss: 0.1841 - val_loss: 0.1914\n",
            "Epoch 14/50\n",
            "49/49 [==============================] - 0s 5ms/step - loss: 0.1830 - val_loss: 0.1915\n",
            "Epoch 15/50\n",
            "49/49 [==============================] - 0s 4ms/step - loss: 0.1818 - val_loss: 0.1923\n",
            "Epoch 16/50\n",
            "49/49 [==============================] - 0s 5ms/step - loss: 0.1818 - val_loss: 0.1913\n",
            "Epoch 17/50\n",
            "49/49 [==============================] - 0s 5ms/step - loss: 0.1814 - val_loss: 0.1918\n",
            "Epoch 18/50\n",
            "49/49 [==============================] - 0s 4ms/step - loss: 0.1802 - val_loss: 0.1925\n",
            "Epoch 19/50\n",
            "49/49 [==============================] - 0s 4ms/step - loss: 0.1794 - val_loss: 0.1926\n",
            "Epoch 20/50\n",
            "49/49 [==============================] - 0s 4ms/step - loss: 0.1792 - val_loss: 0.1920\n",
            "Epoch 21/50\n",
            "49/49 [==============================] - 0s 5ms/step - loss: 0.1781 - val_loss: 0.1944\n",
            "Epoch 22/50\n",
            "49/49 [==============================] - 0s 4ms/step - loss: 0.1788 - val_loss: 0.1959\n",
            "Epoch 23/50\n",
            "49/49 [==============================] - 0s 4ms/step - loss: 0.1772 - val_loss: 0.1927\n",
            "Epoch 24/50\n",
            "49/49 [==============================] - 0s 5ms/step - loss: 0.1768 - val_loss: 0.1942\n",
            "Epoch 25/50\n",
            "49/49 [==============================] - 0s 5ms/step - loss: 0.1759 - val_loss: 0.1937\n",
            "Epoch 26/50\n",
            "49/49 [==============================] - 0s 5ms/step - loss: 0.1763 - val_loss: 0.1939\n",
            "Epoch 27/50\n",
            "49/49 [==============================] - 0s 4ms/step - loss: 0.1751 - val_loss: 0.1943\n",
            "Epoch 28/50\n",
            "49/49 [==============================] - 0s 5ms/step - loss: 0.1750 - val_loss: 0.1948\n",
            "Epoch 29/50\n",
            "49/49 [==============================] - 0s 5ms/step - loss: 0.1738 - val_loss: 0.1955\n",
            "Epoch 30/50\n",
            "49/49 [==============================] - 0s 5ms/step - loss: 0.1734 - val_loss: 0.1950\n",
            "Epoch 31/50\n",
            "49/49 [==============================] - 0s 4ms/step - loss: 0.1725 - val_loss: 0.1950\n",
            "Epoch 32/50\n",
            "49/49 [==============================] - 0s 6ms/step - loss: 0.1720 - val_loss: 0.1958\n",
            "Epoch 33/50\n",
            "49/49 [==============================] - 0s 5ms/step - loss: 0.1718 - val_loss: 0.1964\n",
            "Epoch 34/50\n",
            "49/49 [==============================] - 0s 5ms/step - loss: 0.1715 - val_loss: 0.1965\n",
            "Epoch 35/50\n",
            "49/49 [==============================] - 0s 5ms/step - loss: 0.1708 - val_loss: 0.1958\n",
            "Epoch 36/50\n",
            "49/49 [==============================] - 0s 5ms/step - loss: 0.1704 - val_loss: 0.1988\n",
            "Epoch 37/50\n",
            "49/49 [==============================] - 0s 5ms/step - loss: 0.1701 - val_loss: 0.1966\n",
            "Epoch 38/50\n",
            "49/49 [==============================] - 0s 5ms/step - loss: 0.1702 - val_loss: 0.1975\n",
            "Epoch 39/50\n",
            "49/49 [==============================] - 0s 5ms/step - loss: 0.1687 - val_loss: 0.1984\n",
            "Epoch 40/50\n",
            "49/49 [==============================] - 0s 4ms/step - loss: 0.1692 - val_loss: 0.1989\n",
            "Epoch 41/50\n",
            "49/49 [==============================] - 0s 4ms/step - loss: 0.1684 - val_loss: 0.1977\n",
            "Epoch 42/50\n",
            "49/49 [==============================] - 0s 4ms/step - loss: 0.1677 - val_loss: 0.1989\n",
            "Epoch 43/50\n",
            "49/49 [==============================] - 0s 4ms/step - loss: 0.1670 - val_loss: 0.1978\n",
            "Epoch 44/50\n",
            "49/49 [==============================] - 0s 5ms/step - loss: 0.1673 - val_loss: 0.1990\n",
            "Epoch 45/50\n",
            "49/49 [==============================] - 0s 5ms/step - loss: 0.1664 - val_loss: 0.1990\n",
            "Epoch 46/50\n",
            "49/49 [==============================] - 0s 5ms/step - loss: 0.1659 - val_loss: 0.2000\n",
            "Epoch 47/50\n",
            "49/49 [==============================] - 0s 5ms/step - loss: 0.1653 - val_loss: 0.1992\n",
            "Epoch 48/50\n",
            "49/49 [==============================] - 0s 5ms/step - loss: 0.1650 - val_loss: 0.1999\n",
            "Epoch 49/50\n",
            "49/49 [==============================] - 0s 5ms/step - loss: 0.1662 - val_loss: 0.1993\n",
            "Epoch 50/50\n",
            "49/49 [==============================] - 0s 5ms/step - loss: 0.1644 - val_loss: 0.2008\n",
            "Minimum Validation Loss: 0.1898\n"
          ],
          "name": "stdout"
        },
        {
          "output_type": "display_data",
          "data": {
            "image/png": "[encoded data removed]",
            "text/plain": [
              "<Figure size 432x288 with 1 Axes>"
            ]
          },
          "metadata": {
            "needs_background": "light"
          }
        }
      ]
    },
    {
      "cell_type": "markdown",
      "metadata": {
        "id": "x417TDJjAppC"
      },
      "source": [
        "## 2) Add Capacity\n",
        "\n",
        "What is your evaluation of these curves? Underfitting, overfitting, just right?"
      ]
    },
    {
      "cell_type": "markdown",
      "metadata": {
        "id": "VpWq5T1tAppD"
      },
      "source": [
        "## 3) Define Early Stopping Callback\n",
        "\n",
        "Now define an early stopping callback that waits 5 epochs (`patience'`) for a change in validation loss of at least `0.001` (`min_delta`) and keeps the weights with the best loss (`restore_best_weights`)."
      ]
    },
    {
      "cell_type": "code",
      "metadata": {
        "lines_to_next_cell": 0,
        "execution": {
          "iopub.status.busy": "2021-08-26T15:53:26.336626Z",
          "iopub.execute_input": "2021-08-26T15:53:26.337052Z",
          "iopub.status.idle": "2021-08-26T15:53:26.345812Z",
          "shell.execute_reply.started": "2021-08-26T15:53:26.337014Z",
          "shell.execute_reply": "2021-08-26T15:53:26.344938Z"
        },
        "trusted": true,
        "id": "Df17DKM1AppE"
      },
      "source": [
        "from tensorflow.keras import callbacks\n",
        "\n",
        "early_stopping = callbacks.EarlyStopping(\n",
        "    min_delta=0.001,\n",
        "    patience=5,\n",
        "    restore_best_weights=True,\n",
        ")\n"
      ],
      "execution_count": 10,
      "outputs": []
    },
    {
      "cell_type": "markdown",
      "metadata": {
        "id": "rFjg1CdAAppE"
      },
      "source": [
        "Now run this cell to train the model and get the learning curves. Notice the `callbacks` argument in `model.fit`."
      ]
    },
    {
      "cell_type": "code",
      "metadata": {
        "execution": {
          "iopub.status.busy": "2021-08-26T15:53:40.58039Z",
          "iopub.execute_input": "2021-08-26T15:53:40.580773Z",
          "iopub.status.idle": "2021-08-26T15:53:44.185742Z",
          "shell.execute_reply.started": "2021-08-26T15:53:40.580735Z",
          "shell.execute_reply": "2021-08-26T15:53:44.184763Z"
        },
        "trusted": true,
        "colab": {
          "base_uri": "https://localhost:8080/",
          "height": 722
        },
        "id": "59ZPyaBLAppE",
        "outputId": "906cd528-20c6-49c8-b1d2-ffa2f22cf828"
      },
      "source": [
        "model = keras.Sequential([\n",
        "    layers.Dense(128, activation='relu', input_shape=input_shape),\n",
        "    layers.Dense(64, activation='relu'),    \n",
        "    layers.Dense(1)\n",
        "])\n",
        "\n",
        "model.compile(\n",
        "    optimizer='adam',\n",
        "    loss='mae',\n",
        ")\n",
        "\n",
        "history = model.fit(\n",
        "    X_train, y_train,\n",
        "    validation_data=(X_valid, y_valid),\n",
        "    batch_size=512,\n",
        "    epochs=50,\n",
        "    callbacks=[early_stopping]\n",
        ")\n",
        "\n",
        "history_df = pd.DataFrame(history.history)\n",
        "history_df.loc[:, ['loss', 'val_loss']].plot()\n",
        "print(\"Minimum Validation Loss: {:0.4f}\".format(history_df['val_loss'].min()));"
      ],
      "execution_count": 11,
      "outputs": [
        {
          "output_type": "stream",
          "text": [
            "Epoch 1/50\n",
            "49/49 [==============================] - 1s 7ms/step - loss: 0.2535 - val_loss: 0.2093\n",
            "Epoch 2/50\n",
            "49/49 [==============================] - 0s 4ms/step - loss: 0.2055 - val_loss: 0.1965\n",
            "Epoch 3/50\n",
            "49/49 [==============================] - 0s 4ms/step - loss: 0.1988 - val_loss: 0.1937\n",
            "Epoch 4/50\n",
            "49/49 [==============================] - 0s 4ms/step - loss: 0.1955 - val_loss: 0.1924\n",
            "Epoch 5/50\n",
            "49/49 [==============================] - 0s 4ms/step - loss: 0.1934 - val_loss: 0.1923\n",
            "Epoch 6/50\n",
            "49/49 [==============================] - 0s 5ms/step - loss: 0.1917 - val_loss: 0.1928\n",
            "Epoch 7/50\n",
            "49/49 [==============================] - 0s 5ms/step - loss: 0.1902 - val_loss: 0.1907\n",
            "Epoch 8/50\n",
            "49/49 [==============================] - 0s 4ms/step - loss: 0.1892 - val_loss: 0.1920\n",
            "Epoch 9/50\n",
            "49/49 [==============================] - 0s 4ms/step - loss: 0.1890 - val_loss: 0.1919\n",
            "Epoch 10/50\n",
            "49/49 [==============================] - 0s 4ms/step - loss: 0.1876 - val_loss: 0.1914\n",
            "Epoch 11/50\n",
            "49/49 [==============================] - 0s 4ms/step - loss: 0.1867 - val_loss: 0.1916\n",
            "Epoch 12/50\n",
            "49/49 [==============================] - 0s 4ms/step - loss: 0.1860 - val_loss: 0.1919\n",
            "Minimum Validation Loss: 0.1907\n"
          ],
          "name": "stdout"
        },
        {
          "output_type": "display_data",
          "data": {
            "image/png": "[encoded data removed]",
            "text/plain": [
              "<Figure size 432x288 with 1 Axes>"
            ]
          },
          "metadata": {
            "needs_background": "light"
          }
        }
      ]
    },
    {
      "cell_type": "markdown",
      "metadata": {
        "id": "Sa5yg4gNAppF"
      },
      "source": [
        "## 4) Train and Interpret\n",
        "\n",
        "Was this an improvement compared to training without early stopping?"
      ]
    }
  ]
}