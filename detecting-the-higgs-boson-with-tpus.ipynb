{
  "nbformat": 4,
  "nbformat_minor": 0,
  "metadata": {
    "kernelspec": {
      "language": "python",
      "display_name": "Python 3",
      "name": "python3"
    },
    "language_info": {
      "name": "python",
      "version": "3.7.10",
      "mimetype": "text/x-python",
      "codemirror_mode": {
        "name": "ipython",
        "version": 3
      },
      "pygments_lexer": "ipython3",
      "nbconvert_exporter": "python",
      "file_extension": ".py"
    },
    "colab": {
      "name": "detecting-the-higgs-boson-with-tpus.ipynb",
      "provenance": [],
      "collapsed_sections": [],
      "include_colab_link": true
    }
  },
  "cells": [
    {
      "cell_type": "markdown",
      "metadata": {
        "id": "view-in-github",
        "colab_type": "text"
      },
      "source": [
        "<a href=\"https://colab.research.google.com/github/copev313/Deep-Learning-Introduction/blob/main/detecting-the-higgs-boson-with-tpus.ipynb\" target=\"_parent\"><img src=\"https://colab.research.google.com/assets/colab-badge.svg\" alt=\"Open In Colab\"/></a>"
      ]
    },
    {
      "cell_type": "markdown",
      "metadata": {
        "id": "A4q1i_7UP2Yy"
      },
      "source": [
        "# **Searching for the Higgs Boson** #\n",
        "\n",
        "The Standard Model is a theory in particle physics that describes some of the most basic forces of nature. One fundamental particle, the Higgs boson, is what accounts for the *mass* of matter. First theorized in the 1964, the Higgs boson eluded observation for almost fifty years. In 2012 it was finally observed experimentally at the Large Hadron Collider. These experiments produced millions of gigabytes of data.\n",
        "\n",
        "Large and complicated datasets like these are where deep learning excels. In this notebook, we'll build a Wide and Deep neural network to determine whether an observed particle collision produced a Higgs boson or not.\n",
        "\n",
        "---\n",
        "## The Collision Data #\n",
        "\n",
        "The collision of protons at high energy can produce new particles like the Higgs boson. These particles can't be directly observed, however, since they decay almost instantly. So to detect the presence of a new particle, we instead observe the behavior of the particles they decay into, their \"decay products\".\n",
        "\n",
        "The *Higgs* dataset contains 21 \"low-level\" features of the decay products and also 7 more \"high-level\" features derived from these.\n",
        "\n",
        "---\n",
        "## Wide and Deep Neural Networks #\n",
        "\n",
        "A *Wide and Deep* network trains a linear layer side-by-side with a deep stack of dense layers. Wide and Deep networks are often effective on tabular datasets.[^1]\n",
        "\n",
        "Both the dataset and the model are much larger than what we used in the course. To speed up training, we'll use Kaggle's [Tensor Processing Units](https://www.kaggle.com/docs/tpu) (TPUs), an accelerator ideal for large workloads.\n",
        "\n",
        "We've collected some hyperparameters here to make experimentation easier."
      ]
    },
    {
      "cell_type": "code",
      "metadata": {
        "execution": {
          "iopub.status.busy": "2021-08-27T15:17:04.074456Z",
          "iopub.execute_input": "2021-08-27T15:17:04.074974Z",
          "iopub.status.idle": "2021-08-27T15:17:04.089320Z",
          "shell.execute_reply.started": "2021-08-27T15:17:04.074878Z",
          "shell.execute_reply": "2021-08-27T15:17:04.087787Z"
        },
        "trusted": true,
        "id": "K63KCqLwP2Y2"
      },
      "source": [
        "# Model Configuration:\n",
        "\n",
        "# 2048\n",
        "UNITS = 2 ** 11\n",
        "ACTIVATION = 'relu'\n",
        "DROPOUT = 0.1\n",
        "\n",
        "\n",
        "# Training Configuration (Powers of 128 are best)\n",
        "BATCH_SIZE_PER_REPLICA = 2 ** 11"
      ],
      "execution_count": null,
      "outputs": []
    },
    {
      "cell_type": "markdown",
      "metadata": {
        "id": "JhCxPRmQP2Y4"
      },
      "source": [
        "The next few sections set up the TPU computation, data pipeline, and neural network model. If you'd just like to see the results, feel free to skip to the end!\n",
        "\n",
        "---\n",
        "## Setup #\n",
        "\n",
        "In addition to our imports, this section contains some code that will connect our notebook to the TPU and create a **distribution strategy**. Each TPU has eight computational cores acting independently. With a distribution strategy, we define how we want to divide up the work between them."
      ]
    },
    {
      "cell_type": "code",
      "metadata": {
        "execution": {
          "iopub.status.busy": "2021-08-27T15:19:35.384278Z",
          "iopub.execute_input": "2021-08-27T15:19:35.384724Z",
          "iopub.status.idle": "2021-08-27T15:19:48.345605Z",
          "shell.execute_reply.started": "2021-08-27T15:19:35.384682Z",
          "shell.execute_reply": "2021-08-27T15:19:48.344351Z"
        },
        "trusted": true,
        "id": "xPnWjai4P2Y5",
        "outputId": "71fde559-4817-4acf-db30-7c7e85bf4c44"
      },
      "source": [
        "# TensorFlow\n",
        "import tensorflow as tf\n",
        "print(\"Tensorflow version \" + tf.__version__)\n",
        "\n",
        "# Detect and init the TPU:\n",
        "try:\n",
        "    # Detect TPUs ---\n",
        "    tpu = tf.distribute.cluster_resolver.TPUClusterResolver.connect()\n",
        "    strategy = tf.distribute.TPUStrategy(tpu)\n",
        "    \n",
        "except ValueError:\n",
        "    # Detect GPUs ---\n",
        "    # Default strategy that works on CPU and single GPU:\n",
        "    strategy = tf.distribute.get_strategy()\n",
        "print(\"Number of accelerators: \", strategy.num_replicas_in_sync)\n",
        "\n",
        "\n",
        "# Plotting\n",
        "import pandas as pd\n",
        "import matplotlib.pyplot as plt\n",
        "\n",
        "# Set Matplotlib defaults:\n",
        "plt.style.use('seaborn-whitegrid')\n",
        "plt.rc('figure', autolayout=True)\n",
        "plt.rc('axes', labelweight='bold', labelsize='large',\n",
        "       titleweight='bold', titlesize=18, titlepad=10)\n",
        "\n",
        "\n",
        "# Data\n",
        "from kaggle_datasets import KaggleDatasets\n",
        "from tensorflow.io import FixedLenFeature\n",
        "AUTO = tf.data.experimental.AUTOTUNE\n",
        "\n",
        "\n",
        "# Model\n",
        "from tensorflow import keras\n",
        "from tensorflow.keras import layers\n",
        "from tensorflow.keras import callbacks"
      ],
      "execution_count": null,
      "outputs": [
        {
          "name": "stdout",
          "text": "Tensorflow version 2.4.1\nNumber of accelerators:  8\n",
          "output_type": "stream"
        }
      ]
    },
    {
      "cell_type": "markdown",
      "metadata": {
        "id": "ax1zYTeNP2Y7"
      },
      "source": [
        "Notice that TensorFlow now detects eight accelerators. Using a TPU is a bit like using eight GPUs at once.\n",
        "\n",
        "---\n",
        "\n",
        "## Load Data #\n",
        "\n",
        "The dataset has been encoded in a binary file format called *TFRecords*. These two functions will parse the TFRecords and build a TensorFlow `tf.data.Dataset` object that we can use for training."
      ]
    },
    {
      "cell_type": "code",
      "metadata": {
        "execution": {
          "iopub.status.busy": "2021-08-27T15:20:19.253191Z",
          "iopub.execute_input": "2021-08-27T15:20:19.253647Z",
          "iopub.status.idle": "2021-08-27T15:20:19.265663Z",
          "shell.execute_reply.started": "2021-08-27T15:20:19.253593Z",
          "shell.execute_reply": "2021-08-27T15:20:19.264215Z"
        },
        "trusted": true,
        "id": "ZhZD3gqrP2Y8"
      },
      "source": [
        "def make_decoder(feature_description):\n",
        "    def decoder(example):\n",
        "        example = tf.io.parse_single_example(example, feature_description)\n",
        "        features = tf.io.parse_tensor(example['features'], tf.float32)\n",
        "        features = tf.reshape(features, [28])\n",
        "        label = example['label']\n",
        "        return features, label\n",
        "    return decoder\n",
        "\n",
        "\n",
        "def load_dataset(filenames, decoder, ordered=False):\n",
        "    AUTO = tf.data.experimental.AUTOTUNE\n",
        "    ignore_order = tf.data.Options()\n",
        "    if not ordered:\n",
        "        ignore_order.experimental_deterministic = False\n",
        "    dataset = (\n",
        "        tf.data\n",
        "        .TFRecordDataset(filenames, num_parallel_reads=AUTO)\n",
        "        .with_options(ignore_order)\n",
        "        .map(decoder, AUTO)\n",
        "    )\n",
        "    return dataset\n"
      ],
      "execution_count": null,
      "outputs": []
    },
    {
      "cell_type": "code",
      "metadata": {
        "execution": {
          "iopub.status.busy": "2021-08-27T15:20:31.292760Z",
          "iopub.execute_input": "2021-08-27T15:20:31.293217Z",
          "iopub.status.idle": "2021-08-27T15:20:31.299184Z",
          "shell.execute_reply.started": "2021-08-27T15:20:31.293174Z",
          "shell.execute_reply": "2021-08-27T15:20:31.298079Z"
        },
        "trusted": true,
        "id": "SSY9MP-xP2Y9"
      },
      "source": [
        "dataset_size = int(11e6)\n",
        "validation_size = int(5e5)\n",
        "training_size = dataset_size - validation_size\n",
        "\n",
        "\n",
        "# For model.fit\n",
        "batch_size = BATCH_SIZE_PER_REPLICA * strategy.num_replicas_in_sync\n",
        "steps_per_epoch = training_size // batch_size\n",
        "validation_steps = validation_size // batch_size\n",
        "\n",
        "\n",
        "# For model.compile\n",
        "steps_per_execution = 256"
      ],
      "execution_count": null,
      "outputs": []
    },
    {
      "cell_type": "code",
      "metadata": {
        "execution": {
          "iopub.status.busy": "2021-08-27T15:22:21.287300Z",
          "iopub.execute_input": "2021-08-27T15:22:21.287880Z",
          "iopub.status.idle": "2021-08-27T15:22:21.852384Z",
          "shell.execute_reply.started": "2021-08-27T15:22:21.287840Z",
          "shell.execute_reply": "2021-08-27T15:22:21.851233Z"
        },
        "trusted": true,
        "id": "DbNlx9mMP2Y-"
      },
      "source": [
        "feature_description = {\n",
        "    'features': FixedLenFeature([], tf.string),\n",
        "    'label': FixedLenFeature([], tf.float32),\n",
        "}\n",
        "\n",
        "decoder = make_decoder(feature_description)\n",
        "\n",
        "data_dir = KaggleDatasets().get_gcs_path('higgs-boson')\n",
        "train_files = tf.io.gfile.glob(data_dir + '/training' + '/*.tfrecord')\n",
        "valid_files = tf.io.gfile.glob(data_dir + '/validation' + '/*.tfrecord')\n",
        "\n",
        "ds_train = load_dataset(train_files, decoder, ordered=False)\n",
        "ds_train = (\n",
        "    ds_train\n",
        "    .cache()\n",
        "    .repeat()\n",
        "    .shuffle(2 ** 19)\n",
        "    .batch(batch_size)\n",
        "    .prefetch(AUTO)\n",
        ")\n",
        "\n",
        "ds_valid = load_dataset(valid_files, decoder, ordered=False)\n",
        "ds_valid = (\n",
        "    ds_valid\n",
        "    .batch(batch_size)\n",
        "    .cache()\n",
        "    .prefetch(AUTO)\n",
        ")"
      ],
      "execution_count": null,
      "outputs": []
    },
    {
      "cell_type": "markdown",
      "metadata": {
        "id": "CmdVGmfrP2Y_"
      },
      "source": [
        "---\n",
        "\n",
        "## Model #\n",
        "\n",
        "Now that the data is ready, let's define the network. We're defining the deep branch of the network using Keras's *Functional API*, which is a bit more flexible that the `Sequential` method we used in the course.\n"
      ]
    },
    {
      "cell_type": "code",
      "metadata": {
        "execution": {
          "iopub.status.busy": "2021-08-27T15:22:36.756676Z",
          "iopub.execute_input": "2021-08-27T15:22:36.757235Z",
          "iopub.status.idle": "2021-08-27T15:22:37.547013Z",
          "shell.execute_reply.started": "2021-08-27T15:22:36.757197Z",
          "shell.execute_reply": "2021-08-27T15:22:37.545805Z"
        },
        "trusted": true,
        "id": "qZXjdRulP2ZB"
      },
      "source": [
        "def dense_block(units, activation, dropout_rate, l1=None, l2=None):\n",
        "    def make(inputs):\n",
        "        x = layers.Dense(units)(inputs)\n",
        "        x = layers.BatchNormalization()(x)\n",
        "        x = layers.Activation(activation)(x)\n",
        "        x = layers.Dropout(dropout_rate)(x)\n",
        "        return x\n",
        "    return make\n",
        "\n",
        "\n",
        "with strategy.scope():\n",
        "    # Wide Network\n",
        "    wide = keras.experimental.LinearModel()\n",
        "\n",
        "    # Deep Network\n",
        "    inputs = keras.Input(shape=[28])\n",
        "    x = dense_block(UNITS, ACTIVATION, DROPOUT)(inputs)\n",
        "    x = dense_block(UNITS, ACTIVATION, DROPOUT)(x)\n",
        "    x = dense_block(UNITS, ACTIVATION, DROPOUT)(x)\n",
        "    x = dense_block(UNITS, ACTIVATION, DROPOUT)(x)\n",
        "    x = dense_block(UNITS, ACTIVATION, DROPOUT)(x)\n",
        "    outputs = layers.Dense(1)(x)\n",
        "    deep = keras.Model(inputs=inputs, outputs=outputs)\n",
        "    \n",
        "    # Wide and Deep Network\n",
        "    wide_and_deep = keras.experimental.WideDeepModel(\n",
        "        linear_model=wide,\n",
        "        dnn_model=deep,\n",
        "        activation='sigmoid',\n",
        "    )\n",
        "\n",
        "wide_and_deep.compile(\n",
        "    loss='binary_crossentropy',\n",
        "    optimizer='adam',\n",
        "    metrics=['AUC', 'binary_accuracy'],\n",
        "    experimental_steps_per_execution=steps_per_execution,\n",
        ")"
      ],
      "execution_count": null,
      "outputs": []
    },
    {
      "cell_type": "markdown",
      "metadata": {
        "id": "XjMrhhnfP2ZB"
      },
      "source": [
        "---\n",
        "## Training #\n",
        "\n",
        "During training, we'll use the `EarlyStopping` callback as usual. Notice that we've also defined a **learning rate schedule**. It's been found that gradually decreasing the learning rate over the course of training can improve performance (the weights \"settle in\" to a minimum). This schedule will multiply the learning rate by `0.2` if the validation loss didn't decrease after an epoch."
      ]
    },
    {
      "cell_type": "code",
      "metadata": {
        "lines_to_next_cell": 2,
        "execution": {
          "iopub.status.busy": "2021-08-27T15:22:40.334884Z",
          "iopub.execute_input": "2021-08-27T15:22:40.335311Z",
          "iopub.status.idle": "2021-08-27T15:22:40.340389Z",
          "shell.execute_reply.started": "2021-08-27T15:22:40.335266Z",
          "shell.execute_reply": "2021-08-27T15:22:40.339453Z"
        },
        "trusted": true,
        "id": "l9iqe1jIP2ZC"
      },
      "source": [
        "early_stopping = callbacks.EarlyStopping(\n",
        "    patience=2,\n",
        "    min_delta=0.001,\n",
        "    restore_best_weights=True,\n",
        ")\n",
        "\n",
        "lr_schedule = callbacks.ReduceLROnPlateau(\n",
        "    patience=0,\n",
        "    factor=0.2,\n",
        "    min_lr=0.001,\n",
        ")"
      ],
      "execution_count": null,
      "outputs": []
    },
    {
      "cell_type": "code",
      "metadata": {
        "execution": {
          "iopub.status.busy": "2021-08-27T15:22:42.563603Z",
          "iopub.execute_input": "2021-08-27T15:22:42.564227Z",
          "iopub.status.idle": "2021-08-27T15:29:48.928733Z",
          "shell.execute_reply.started": "2021-08-27T15:22:42.564186Z",
          "shell.execute_reply": "2021-08-27T15:29:48.927476Z"
        },
        "trusted": true,
        "id": "ZIFa__gUP2ZC",
        "outputId": "bf40fea8-ee79-471b-9629-75dc6026e410"
      },
      "source": [
        "history = wide_and_deep.fit(\n",
        "    ds_train,\n",
        "    validation_data=ds_valid,\n",
        "    epochs=50,\n",
        "    steps_per_epoch=steps_per_epoch,\n",
        "    validation_steps=validation_steps,\n",
        "    callbacks=[early_stopping, lr_schedule],\n",
        ")\n"
      ],
      "execution_count": null,
      "outputs": [
        {
          "name": "stdout",
          "text": "Epoch 1/50\n640/640 [==============================] - 174s 271ms/step - loss: 0.6119 - auc: 0.7543 - binary_accuracy: 0.6889 - val_loss: 0.6740 - val_auc: 0.6714 - val_binary_accuracy: 0.5832\nEpoch 2/50\n640/640 [==============================] - 28s 44ms/step - loss: 0.4969 - auc: 0.8353 - binary_accuracy: 0.7530 - val_loss: 0.4950 - val_auc: 0.8407 - val_binary_accuracy: 0.7563\nEpoch 3/50\n640/640 [==============================] - 28s 43ms/step - loss: 0.4788 - auc: 0.8485 - binary_accuracy: 0.7645 - val_loss: 0.5020 - val_auc: 0.8361 - val_binary_accuracy: 0.7569\nEpoch 4/50\n640/640 [==============================] - 29s 45ms/step - loss: 0.4704 - auc: 0.8545 - binary_accuracy: 0.7702 - val_loss: 0.4908 - val_auc: 0.8438 - val_binary_accuracy: 0.7644\nEpoch 5/50\n640/640 [==============================] - 27s 42ms/step - loss: 0.4642 - auc: 0.8588 - binary_accuracy: 0.7742 - val_loss: 0.4709 - val_auc: 0.8558 - val_binary_accuracy: 0.7720\nEpoch 6/50\n640/640 [==============================] - 27s 42ms/step - loss: 0.4585 - auc: 0.8626 - binary_accuracy: 0.7778 - val_loss: 0.4715 - val_auc: 0.8551 - val_binary_accuracy: 0.7724\nEpoch 7/50\n640/640 [==============================] - 27s 43ms/step - loss: 0.4534 - auc: 0.8660 - binary_accuracy: 0.7811 - val_loss: 0.4572 - val_auc: 0.8641 - val_binary_accuracy: 0.7800\nEpoch 8/50\n640/640 [==============================] - 27s 42ms/step - loss: 0.4486 - auc: 0.8691 - binary_accuracy: 0.7841 - val_loss: 0.4492 - val_auc: 0.8690 - val_binary_accuracy: 0.7841\nEpoch 9/50\n640/640 [==============================] - 28s 44ms/step - loss: 0.4447 - auc: 0.8716 - binary_accuracy: 0.7865 - val_loss: 0.4619 - val_auc: 0.8630 - val_binary_accuracy: 0.7802\nEpoch 10/50\n640/640 [==============================] - 28s 43ms/step - loss: 0.4411 - auc: 0.8739 - binary_accuracy: 0.7889 - val_loss: 0.4487 - val_auc: 0.8703 - val_binary_accuracy: 0.7864\n",
          "output_type": "stream"
        }
      ]
    },
    {
      "cell_type": "code",
      "metadata": {
        "execution": {
          "iopub.status.busy": "2021-08-27T15:33:29.530197Z",
          "iopub.execute_input": "2021-08-27T15:33:29.530652Z",
          "iopub.status.idle": "2021-08-27T15:33:30.115410Z",
          "shell.execute_reply.started": "2021-08-27T15:33:29.530609Z",
          "shell.execute_reply": "2021-08-27T15:33:30.114644Z"
        },
        "trusted": true,
        "id": "ya_M-TBCP2ZD",
        "outputId": "4ba5a2c1-04c9-46ad-8621-2191b0f48cbe"
      },
      "source": [
        "history_frame = pd.DataFrame(history.history)\n",
        "history_frame.loc[:, ['loss', 'val_loss']].plot(title='Cross-entropy Loss')\n",
        "history_frame.loc[:, ['auc', 'val_auc']].plot(title='AUC');\n"
      ],
      "execution_count": null,
      "outputs": [
        {
          "output_type": "display_data",
          "data": {
            "text/plain": "<Figure size 432x288 with 1 Axes>",
            "image/png": "[encoded data removed]"
          },
          "metadata": {}
        },
        {
          "output_type": "display_data",
          "data": {
            "text/plain": "<Figure size 432x288 with 1 Axes>",
            "image/png": "[encoded data removed]"
          },
          "metadata": {}
        }
      ]
    },
    {
      "cell_type": "markdown",
      "metadata": {
        "id": "lFCPJSwqP2ZE"
      },
      "source": [
        "## References #\n",
        "\n",
        "- Baldi, P. et al. *Searching for Exotic Particles in High-Energy Physics with Deep Learning*. (2014) ([arXiv](https://arxiv.org/abs/1402.4735))\n",
        "- Cheng, H. et al. *Wide & Deep Learning for Recommender Systems*. (2016) ([arXiv](https://arxiv.org/abs/1606.07792))\n",
        "- *What Exactly is the Higgs Boson?* Scientific American. (1999) [(article)](https://www.scientificamerican.com/article/what-exactly-is-the-higgs/)]\n",
        "\n",
        "[^1]: In the original implementation, categorical features were one-hot encoded and crossed to produce the interaction features. This \"wide\" dataset was used with the linear component. For the deep component, the categories were encoded into a much narrower embedding layer."
      ]
    }
  ]
}